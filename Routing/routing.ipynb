{
 "cells": [
  {
   "cell_type": "code",
   "execution_count": 2,
   "id": "a335c4a5",
   "metadata": {},
   "outputs": [
    {
     "data": {
      "text/plain": [
       "AIMessage(content='\\n<think>\\nOkay, the user said \"Hello\". I need to respond appropriately. Let me think. Since it\\'s a greeting, I should keep it friendly and open. Maybe say \"Hello! How can I assist you today?\" That sounds good. It\\'s polite and invites them to state their needs. I should make sure there are no typos. Yep, looks perfect. Send it.\\n</think>\\n\\nHello! How can I assist you today?', additional_kwargs={}, response_metadata={'token_usage': {'completion_tokens': 89, 'prompt_tokens': 11, 'total_tokens': 100, 'completion_time': 0.220918719, 'prompt_time': 0.007442421, 'queue_time': 0.32302499100000004, 'total_time': 0.22836114}, 'model_name': 'qwen-qwq-32b', 'system_fingerprint': 'fp_98b01f25b2', 'finish_reason': 'stop', 'logprobs': None}, id='run--e9c88c7c-0116-43a5-82f3-5d9b60e8e17d-0', usage_metadata={'input_tokens': 11, 'output_tokens': 89, 'total_tokens': 100})"
      ]
     },
     "execution_count": 2,
     "metadata": {},
     "output_type": "execute_result"
    }
   ],
   "source": [
    "import os\n",
    "from dotenv import load_dotenv\n",
    "load_dotenv()\n",
    "\n",
    "from langchain_groq import ChatGroq\n",
    "\n",
    "\n",
    "#os.environ[\"OPENAI_API_KEY\"]=os.getenv(\"OPENAI_API_KEY\")\n",
    "os.environ[\"GROQ_API_KEY\"]=os.getenv(\"GROQ_API_KEY\")\n",
    "\n",
    "\n",
    "llm=ChatGroq(model=\"qwen-qwq-32b\")\n",
    "#llm = ChatOpenAI(model=\"gpt-4o\")\n",
    "result=llm.invoke(\"Hello\")\n",
    "result"
   ]
  },
  {
   "cell_type": "code",
   "execution_count": 3,
   "id": "b3d883cd",
   "metadata": {},
   "outputs": [],
   "source": [
    "from typing_extensions import Literal\n",
    "from pydantic import BaseModel,Field\n",
    "from langchain_core.messages import HumanMessage,SystemMessage\n",
    "from typing_extensions import TypedDict\n",
    "\n",
    "class Route(BaseModel):\n",
    "    step:Literal[\"work\",\"personal\",\"urgent\"]=Field(description=\"The Type of task\")\n"
   ]
  },
  {
   "cell_type": "code",
   "execution_count": 4,
   "id": "d86e4cb3",
   "metadata": {},
   "outputs": [],
   "source": [
    "task = llm.with_structured_output(Route)"
   ]
  },
  {
   "cell_type": "code",
   "execution_count": 5,
   "id": "611d3daf",
   "metadata": {},
   "outputs": [],
   "source": [
    "class State(TypedDict):\n",
    "    input:str\n",
    "    category:str\n",
    "    output:str\n",
    "\n",
    "\n",
    "def work_task(state : State):\n",
    "    return {\"output\":f\"Your task is to {state['input']}\"}\n",
    "\n",
    "def personal_task(state : State):\n",
    "    return {\"output\":f\"Your task is to {state['input']}\"}\n",
    "\n",
    "def urgent_task(state : State):\n",
    "    return {\"output\":f\"Your task is to {state['input']}\"}"
   ]
  },
  {
   "cell_type": "code",
   "execution_count": 6,
   "id": "c1c40cec",
   "metadata": {},
   "outputs": [],
   "source": [
    "def llm_router(state : State):\n",
    "    \"\"\"Route the input to the appropriate node\"\"\"\n",
    "\n",
    "    decision=task.invoke(\n",
    "        [\n",
    "            SystemMessage(\n",
    "                content=\"Route the task to work,personal,urgent based on the user input\"\n",
    "            ),\n",
    "            HumanMessage(content=state[\"input\"])\n",
    "        ]\n",
    "    )\n",
    "    return {\"category\":decision.step}\n",
    "\n",
    "def router_decision(state : State):\n",
    "    category = state[\"category\"]\n",
    "    if category == \"work\":\n",
    "        return \"work\"\n",
    "    elif category == \"personal\":\n",
    "        return \"personal\"\n",
    "    elif category == \"urgent\":\n",
    "        return \"urgent\""
   ]
  },
  {
   "cell_type": "code",
   "execution_count": 7,
   "id": "44b49b47",
   "metadata": {},
   "outputs": [
    {
     "data": {
      "image/png": "[encoded data removed]",
      "text/plain": [
       "<IPython.core.display.Image object>"
      ]
     },
     "metadata": {},
     "output_type": "display_data"
    }
   ],
   "source": [
    "from langgraph.graph import StateGraph,START,END\n",
    "from IPython.display import display,Image\n",
    "\n",
    "router_builder = StateGraph(State)\n",
    "router_builder.add_node(\"router\",llm_router)\n",
    "router_builder.add_node(\"work\",work_task)\n",
    "router_builder.add_node(\"personal\",personal_task)\n",
    "router_builder.add_node(\"urgent\",urgent_task)\n",
    "router_builder.add_edge(START,\"router\")\n",
    "router_builder.add_conditional_edges(\"router\",router_decision,{\"work\":\"work\",\"personal\":\"personal\",\"urgent\":\"urgent\"})\n",
    "router_builder.add_edge(\"work\",END)\n",
    "router_builder.add_edge(\"personal\",END)\n",
    "router_builder.add_edge(\"urgent\",END)\n",
    "\n",
    "router=router_builder.compile()\n",
    "display(Image(router.get_graph().draw_mermaid_png()))\n"
   ]
  },
  {
   "cell_type": "code",
   "execution_count": 8,
   "id": "3905f55f",
   "metadata": {},
   "outputs": [
    {
     "name": "stdout",
     "output_type": "stream",
     "text": [
      "Your task is to I need to do some work immediately\n",
      "urgent\n"
     ]
    }
   ],
   "source": [
    "state = router.invoke({\"input\":\"I need to do some work immediately\"})\n",
    "print(state[\"output\"])\n",
    "print(state[\"category\"])"
   ]
  },
  {
   "cell_type": "code",
   "execution_count": 11,
   "id": "ee49b3a9",
   "metadata": {},
   "outputs": [
    {
     "name": "stdout",
     "output_type": "stream",
     "text": [
      "Your task is to Need to create a PPT for my project\n",
      "work\n"
     ]
    }
   ],
   "source": [
    "state = router.invoke({\"input\":\"Need to create a PPT for my project\"})\n",
    "print(state[\"output\"])\n",
    "print(state[\"category\"])"
   ]
  }
 ],
 "metadata": {
  "kernelspec": {
   "display_name": "Python 3",
   "language": "python",
   "name": "python3"
  },
  "language_info": {
   "codemirror_mode": {
    "name": "ipython",
    "version": 3
   },
   "file_extension": ".py",
   "mimetype": "text/x-python",
   "name": "python",
   "nbconvert_exporter": "python",
   "pygments_lexer": "ipython3",
   "version": "3.12.0"
  }
 },
 "nbformat": 4,
 "nbformat_minor": 5
}
