{
 "cells": [
  {
   "cell_type": "code",
   "execution_count": 6,
   "id": "6bd08567",
   "metadata": {},
   "outputs": [],
   "source": [
    "from langchain_community.document_loaders import TextLoader\n",
    "from langchain_community.vectorstores import FAISS \n",
    "from langchain_community.embeddings import OllamaEmbeddings\n",
    "from langchain_text_splitters import CharacterTextSplitter\n",
    "\n",
    "loader = TextLoader(\"cybersecurity.txt\")\n",
    "documents = loader.load()\n",
    "text_splitter = CharacterTextSplitter(chunk_size=1000, chunk_overlap=30)\n",
    "docs = text_splitter.split_documents(documents)"
   ]
  },
  {
   "cell_type": "code",
   "execution_count": 7,
   "id": "3fe71577",
   "metadata": {},
   "outputs": [
    {
     "data": {
      "text/plain": [
       "[Document(metadata={'source': 'cybersecurity.txt'}, page_content='Cybersecurity: An Overview\\n---------------------------\\n\\nCybersecurity refers to the practice of protecting systems, networks, and programs from digital attacks. These cyberattacks are usually aimed at accessing, changing, or destroying sensitive information; extorting money from users; or interrupting normal business processes.\\n\\nTypes of Cyber Threats:\\n1. Malware - Software designed to damage or destroy a computer system.\\n2. Phishing - Fraudulent emails designed to trick recipients into revealing sensitive information.\\n3. Ransomware - Malware that locks files and demands payment for release.\\n4. Man-in-the-Middle Attacks - Where attackers secretly intercept communication between two parties.\\n5. Denial-of-Service (DoS) Attacks - Overwhelming systems to make them unavailable to users.'),\n",
       " Document(metadata={'source': 'cybersecurity.txt'}, page_content='Key Principles of Cybersecurity:\\n- **Confidentiality**: Ensuring that data is not accessed by unauthorized individuals.\\n- **Integrity**: Maintaining the accuracy and completeness of data.\\n- **Availability**: Ensuring systems and data are accessible when needed.\\n\\nBest Practices:\\n- Use strong, unique passwords and update them regularly.\\n- Enable two-factor authentication wherever possible.\\n- Keep software and systems updated.\\n- Regularly back up important data.\\n- Educate users about social engineering and phishing scams.\\n\\nConclusion:\\nCybersecurity is a shared responsibility. From individuals to large organizations, everyone has a role in securing the digital environment. Awareness, best practices, and the right technologies help minimize the risk of cyber threats.')]"
      ]
     },
     "execution_count": 7,
     "metadata": {},
     "output_type": "execute_result"
    }
   ],
   "source": [
    "docs"
   ]
  },
  {
   "cell_type": "code",
   "execution_count": 14,
   "id": "775f4a37",
   "metadata": {},
   "outputs": [
    {
     "data": {
      "text/plain": [
       "<langchain_community.vectorstores.faiss.FAISS at 0x237858c72d0>"
      ]
     },
     "execution_count": 14,
     "metadata": {},
     "output_type": "execute_result"
    }
   ],
   "source": [
    "embeddings = OllamaEmbeddings(model=\"gemma:2b\")\n",
    "db=FAISS.from_documents(docs, embeddings)\n",
    "db"
   ]
  },
  {
   "cell_type": "code",
   "execution_count": 13,
   "id": "0b296804",
   "metadata": {},
   "outputs": [
    {
     "data": {
      "text/plain": [
       "'Cybersecurity: An Overview\\n---------------------------\\n\\nCybersecurity refers to the practice of protecting systems, networks, and programs from digital attacks. These cyberattacks are usually aimed at accessing, changing, or destroying sensitive information; extorting money from users; or interrupting normal business processes.\\n\\nTypes of Cyber Threats:\\n1. Malware - Software designed to damage or destroy a computer system.\\n2. Phishing - Fraudulent emails designed to trick recipients into revealing sensitive information.\\n3. Ransomware - Malware that locks files and demands payment for release.\\n4. Man-in-the-Middle Attacks - Where attackers secretly intercept communication between two parties.\\n5. Denial-of-Service (DoS) Attacks - Overwhelming systems to make them unavailable to users.'"
      ]
     },
     "execution_count": 13,
     "metadata": {},
     "output_type": "execute_result"
    }
   ],
   "source": [
    "query=\"What is a document tells about?\"\n",
    "docs=db.similarity_search(query)\n",
    "docs[0].page_content"
   ]
  },
  {
   "cell_type": "code",
   "execution_count": 16,
   "id": "6890644f",
   "metadata": {},
   "outputs": [
    {
     "data": {
      "text/plain": [
       "'Cybersecurity: An Overview\\n---------------------------\\n\\nCybersecurity refers to the practice of protecting systems, networks, and programs from digital attacks. These cyberattacks are usually aimed at accessing, changing, or destroying sensitive information; extorting money from users; or interrupting normal business processes.\\n\\nTypes of Cyber Threats:\\n1. Malware - Software designed to damage or destroy a computer system.\\n2. Phishing - Fraudulent emails designed to trick recipients into revealing sensitive information.\\n3. Ransomware - Malware that locks files and demands payment for release.\\n4. Man-in-the-Middle Attacks - Where attackers secretly intercept communication between two parties.\\n5. Denial-of-Service (DoS) Attacks - Overwhelming systems to make them unavailable to users.'"
      ]
     },
     "execution_count": 16,
     "metadata": {},
     "output_type": "execute_result"
    }
   ],
   "source": [
    "retriever=db.as_retriever()\n",
    "docs = retriever.invoke(query)\n",
    "docs[0].page_content"
   ]
  },
  {
   "cell_type": "markdown",
   "id": "bf15eed1",
   "metadata": {},
   "source": [
    "### Similarity search with score\n",
    "similarity_search_score allows us to return not only docs but also the score that we get from the query and context.The distance is the cosine distance.A lower score indicates a higher similarity — meaning the document is more relevant to the query."
   ]
  },
  {
   "cell_type": "code",
   "execution_count": 18,
   "id": "13f1b14f",
   "metadata": {},
   "outputs": [
    {
     "data": {
      "text/plain": [
       "[(Document(id='5a519d43-a92e-4e7c-9817-3b23a728fba1', metadata={'source': 'cybersecurity.txt'}, page_content='Cybersecurity: An Overview\\n---------------------------\\n\\nCybersecurity refers to the practice of protecting systems, networks, and programs from digital attacks. These cyberattacks are usually aimed at accessing, changing, or destroying sensitive information; extorting money from users; or interrupting normal business processes.\\n\\nTypes of Cyber Threats:\\n1. Malware - Software designed to damage or destroy a computer system.\\n2. Phishing - Fraudulent emails designed to trick recipients into revealing sensitive information.\\n3. Ransomware - Malware that locks files and demands payment for release.\\n4. Man-in-the-Middle Attacks - Where attackers secretly intercept communication between two parties.\\n5. Denial-of-Service (DoS) Attacks - Overwhelming systems to make them unavailable to users.'),\n",
       "  3170.4116),\n",
       " (Document(id='8826b245-056f-40b7-810b-4f0fd33582a1', metadata={'source': 'cybersecurity.txt'}, page_content='Key Principles of Cybersecurity:\\n- **Confidentiality**: Ensuring that data is not accessed by unauthorized individuals.\\n- **Integrity**: Maintaining the accuracy and completeness of data.\\n- **Availability**: Ensuring systems and data are accessible when needed.\\n\\nBest Practices:\\n- Use strong, unique passwords and update them regularly.\\n- Enable two-factor authentication wherever possible.\\n- Keep software and systems updated.\\n- Regularly back up important data.\\n- Educate users about social engineering and phishing scams.\\n\\nConclusion:\\nCybersecurity is a shared responsibility. From individuals to large organizations, everyone has a role in securing the digital environment. Awareness, best practices, and the right technologies help minimize the risk of cyber threats.'),\n",
       "  4185.565)]"
      ]
     },
     "execution_count": 18,
     "metadata": {},
     "output_type": "execute_result"
    }
   ],
   "source": [
    "docs_and_scores = db.similarity_search_with_score(query)\n",
    "docs_and_scores"
   ]
  }
 ],
 "metadata": {
  "kernelspec": {
   "display_name": "base",
   "language": "python",
   "name": "python3"
  },
  "language_info": {
   "codemirror_mode": {
    "name": "ipython",
    "version": 3
   },
   "file_extension": ".py",
   "mimetype": "text/x-python",
   "name": "python",
   "nbconvert_exporter": "python",
   "pygments_lexer": "ipython3",
   "version": "3.11.5"
  }
 },
 "nbformat": 4,
 "nbformat_minor": 5
}
