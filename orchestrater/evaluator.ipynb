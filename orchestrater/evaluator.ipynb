{
 "cells": [
  {
   "cell_type": "code",
   "execution_count": 3,
   "id": "e31a37c0",
   "metadata": {},
   "outputs": [
    {
     "name": "stdout",
     "output_type": "stream",
     "text": [
      "content='<think>\\nOkay, the user asked, \"What is testing.\" I need to provide a clear explanation of testing, covering different types and its importance. Let me start by defining what testing generally is, then break it down into software testing and other contexts.\\n\\nFirst, testing is a process used to evaluate systems or products to find defects, verify if they meet requirements, and ensure they work as intended. In software testing, it\\'s about checking if the software functions correctly. But there are other types like medical testing or product testing in manufacturing.\\n\\nI should mention the main purposes: verifying correctness, identifying bugs, ensuring quality, and meeting user needs. Maybe list different types of testing like unit testing, integration testing, system testing, acceptance testing. Also, mention manual vs. automated testing.\\n\\nFor the other contexts, like medical testing, it\\'s about diagnosing diseases. Quality testing in manufacturing checks product standards. Academic testing evaluates student knowledge. Each context has its own purpose and methods.\\n\\nI need to structure the answer so it\\'s easy to follow. Start with a general definition, then specific areas like software testing, medical, etc. Highlight the importance in each field. Maybe add examples to clarify. Conclude with the overall significance of testing in ensuring reliability and safety.\\n\\nWait, the user might be asking about software testing specifically, but they didn\\'t specify. So I should cover the general concept first, then go into different domains. Make sure to explain each type briefly without getting too technical. Also, mention why testing is important in each case. Avoid jargon where possible, but if necessary, define terms. Keep the language simple and conversational. Let me check if I\\'m missing any key points or types of testing. Maybe mention regression testing, usability testing, performance testing in software. For other areas, maybe educational testing, product safety testing. Yeah, that should cover it. Alright, time to put it all together in a coherent way.\\n</think>\\n\\nTesting is a systematic process used to evaluate, assess, or verify the performance, quality, functionality, or characteristics of a system, product, or individual to ensure it meets specific requirements, standards, or expectations. It is a critical step in identifying defects, ensuring reliability, and confirming that things work as intended. Testing can occur in various contexts, such as software development, manufacturing, healthcare, education, and more. Below is an overview of testing in key areas:\\n\\n---\\n\\n### **1. Software Testing**  \\nIn software development, testing ensures that applications function correctly and meet user needs.  \\n- **Purpose**:  \\n  - Detect bugs or errors.  \\n  - Verify that software aligns with specifications.  \\n  - Ensure usability, reliability, and security.  \\n\\n- **Types of Software Testing**:  \\n  - **Unit Testing**: Testing individual components or functions.  \\n  - **Integration Testing**: Testing interactions between integrated modules.  \\n  - **System Testing**: Evaluating the complete system as a whole.  \\n  - **Acceptance Testing**: Confirming the software meets user requirements (e.g., user acceptance testing).  \\n  - **Regression Testing**: Checking that new changes don’t break existing features.  \\n  - **Performance Testing**: Assessing speed, scalability, and stability (e.g., load testing).  \\n  - **Usability Testing**: Evaluating user experience and interface design.  \\n  - **Security Testing**: Identifying vulnerabilities to attacks.  \\n\\n- **Manual vs. Automated Testing**:  \\n  - **Manual Testing**: Done manually by testers without automation tools.  \\n  - **Automated Testing**: Uses scripts or tools to repeat tests efficiently (e.g., Selenium, JUnit).  \\n\\n---\\n\\n### **2. Medical Testing**  \\nIn healthcare, testing diagnoses conditions, monitors health, or evaluates treatments.  \\n- **Examples**: Blood tests, X-rays, MRIs, pregnancy tests, or genetic screening.  \\n- **Purpose**:  \\n  - Confirm or rule out diseases.  \\n  - Guide treatment decisions.  \\n  - Monitor chronic conditions (e.g., diabetes).  \\n\\n---\\n\\n### **3. Product/Quality Testing**  \\nIn manufacturing, testing ensures products meet safety, durability, and quality standards.  \\n- **Examples**: Stress testing materials, safety checks for electronics, or product durability tests.  \\n- **Purpose**:  \\n  - Prevent defects.  \\n  - Comply with industry regulations (e.g., FDA, ISO standards).  \\n\\n---\\n\\n### **4. Educational Testing**  \\nIn schools or training, testing evaluates knowledge, skills, or aptitude.  \\n- **Examples**: Exams, quizzes, standardized tests (e.g., SAT, GRE).  \\n- **Purpose**:  \\n  - Assess student learning.  \\n  - Certify qualifications (e.g., driver’s license exams).  \\n\\n---\\n\\n### **5. Scientific Testing**  \\nIn research, testing validates hypotheses or experiments.  \\n- **Examples**: Clinical trials for drugs, physics experiments, or environmental impact studies.  \\n- **Purpose**:  \\n  - Confirm theories.  \\n  - Generate reliable data.  \\n\\n---\\n\\n### **Why Is Testing Important?**  \\n- **Prevents Failures**: Identifies issues before they cause harm (e.g., software crashes, faulty medical devices).  \\n- **Saves Costs**: Fixing errors early is cheaper than post-release fixes.  \\n- **Ensures Safety**: Critical in fields like aviation, healthcare, or automotive.  \\n- **Builds Trust**: Demonstrates reliability to users, customers, or stakeholders.  \\n\\n---\\n\\n### **Key Takeaway**  \\nTesting is a universal process that ensures quality, safety, and functionality. Whether it’s debugging code, diagnosing illnesses, or grading exams, testing helps verify that systems, products, or individuals perform as expected. The specific methods and goals vary by context, but the core principle remains the same: **to reduce risk and improve outcomes**.' additional_kwargs={} response_metadata={'token_usage': {'completion_tokens': 1181, 'prompt_tokens': 11, 'total_tokens': 1192, 'completion_time': 2.471616683, 'prompt_time': 0.000243455, 'queue_time': 0.050756565000000003, 'total_time': 2.471860138}, 'model_name': 'qwen/qwen3-32b', 'system_fingerprint': 'fp_f17c2eb555', 'finish_reason': 'stop', 'logprobs': None} id='run--bde5cdb3-2bc3-4797-8912-9ee5aabcf723-0' usage_metadata={'input_tokens': 11, 'output_tokens': 1181, 'total_tokens': 1192}\n"
     ]
    }
   ],
   "source": [
    "import os\n",
    "from dotenv import load_dotenv\n",
    "load_dotenv()\n",
    "from langchain_groq import ChatGroq\n",
    "os.environ[\"GROQ_API_KEY\"] = os.getenv(\"GROQ_API_KEY\")\n",
    "\n",
    "llm = ChatGroq(model=\"qwen/qwen3-32b\")\n",
    "\n",
    "result = llm.invoke(\"What is testing\")\n",
    "print(result)   \n"
   ]
  },
  {
   "cell_type": "code",
   "execution_count": 7,
   "id": "d2b618fd",
   "metadata": {},
   "outputs": [],
   "source": [
    "from typing import Annotated,List\n",
    "import operator\n",
    "from typing_extensions import Literal\n",
    "from pydantic import BaseModel,Field\n",
    "from langchain_core.messages import HumanMessage,AIMessage,SystemMessage\n",
    "from typing_extensions import TypedDict\n",
    "\n",
    "class State(TypedDict):\n",
    "    joke: str\n",
    "    topic: str\n",
    "    feedback: str\n",
    "    funny_or_not: str"
   ]
  },
  {
   "cell_type": "code",
   "execution_count": 8,
   "id": "bf0d3de4",
   "metadata": {},
   "outputs": [],
   "source": [
    "class Feedback(BaseModel):\n",
    "    grade: Literal[\"funny\", \"not funny\"] = Field(\n",
    "        description=\"Decide if the joke is funny or not\",\n",
    "    )\n",
    "    feedback:str = Field(\n",
    "        description=\"If the joke is funny provide the feedback on how to inprove it.\"\n",
    "    )\n",
    "\n",
    "evaluator = llm.with_structured_output(Feedback)"
   ]
  },
  {
   "cell_type": "code",
   "execution_count": 9,
   "id": "892e22fb",
   "metadata": {},
   "outputs": [],
   "source": [
    "def llm_call_generator(state: State):\n",
    "    \"\"\"LLM generates a joke\"\"\"\n",
    "\n",
    "    if state.get(\"feedback\"):\n",
    "        msg = llm.invoke(\n",
    "            f\"Write a joke about {state['topic']} but take into account the feedback: {state['feedback']}\"\n",
    "        )\n",
    "    else:\n",
    "        msg = llm.invoke(f\"Write a joke about {state['topic']}\")\n",
    "    return {\"joke\": msg.content}\n",
    "\n",
    "def llm_call_evaluator(state: State):\n",
    "    \"\"\"LLM evaluates the joke\"\"\"\n",
    "\n",
    "    grade = evaluator.invoke(f\"Grade the joke {state['joke']}\")\n",
    "    return {\"funny_or_not\": grade.grade, \"feedback\": grade.feedback}\n",
    "\n",
    "# Conditional edge function to route back to joke generator or end based upon feedback from the evaluator\n",
    "def route_joke(state: State):\n",
    "    \"\"\"Route back to joke generator or end based upon feedback from the evaluator\"\"\"\n",
    "\n",
    "    if state[\"funny_or_not\"] == \"funny\":\n",
    "        return \"Accepted\"\n",
    "    elif state[\"funny_or_not\"] == \"not funny\":\n",
    "        return \"Rejected + Feedback\"\n"
   ]
  },
  {
   "cell_type": "code",
   "execution_count": 10,
   "id": "301571ce",
   "metadata": {},
   "outputs": [],
   "source": [
    "from langgraph.graph import StateGraph, START, END\n",
    "from IPython.display import Image, display"
   ]
  },
  {
   "cell_type": "code",
   "execution_count": 11,
   "id": "985cef35",
   "metadata": {},
   "outputs": [
    {
     "data": {
      "image/png": "[encoded data removed]",
      "text/plain": [
       "<IPython.core.display.Image object>"
      ]
     },
     "metadata": {},
     "output_type": "display_data"
    }
   ],
   "source": [
    "# Build workflow\n",
    "optimizer_builder = StateGraph(State)\n",
    "\n",
    "# Add the nodes\n",
    "optimizer_builder.add_node(\"llm_call_generator\", llm_call_generator)\n",
    "optimizer_builder.add_node(\"llm_call_evaluator\", llm_call_evaluator)\n",
    "\n",
    "# Add edges to connect nodes\n",
    "optimizer_builder.add_edge(START, \"llm_call_generator\")\n",
    "optimizer_builder.add_edge(\"llm_call_generator\", \"llm_call_evaluator\")\n",
    "optimizer_builder.add_conditional_edges(\n",
    "    \"llm_call_evaluator\",\n",
    "    route_joke,\n",
    "    {  # Name returned by route_joke : Name of next node to visit\n",
    "        \"Accepted\": END,\n",
    "        \"Rejected + Feedback\": \"llm_call_generator\",\n",
    "    },\n",
    ")\n",
    "\n",
    "# Compile the workflow\n",
    "optimizer_workflow = optimizer_builder.compile()\n",
    "# Show the workflow\n",
    "display(Image(optimizer_workflow.get_graph().draw_mermaid_png()))\n"
   ]
  },
  {
   "cell_type": "code",
   "execution_count": 12,
   "id": "5bfddfa2",
   "metadata": {},
   "outputs": [
    {
     "name": "stdout",
     "output_type": "stream",
     "text": [
      "<think>\n",
      "Okay, I need to write a joke about an agentic AI system. Let me start by recalling what an agentic AI is. From what I understand, it's an AI that operates with more autonomy, making decisions and taking actions without constant human input. Maybe I can play on the idea of it being too independent or having a mind of its own.\n",
      "\n",
      "First, think about common scenarios where autonomy leads to unexpected results. Maybe the AI takes over something mundane but in an over-the-top way. Like a household chore or a simple task. Let's brainstorm some ideas.\n",
      "\n",
      "How about a scenario where the AI, trying to optimize something, makes a mess? For example, if you tell it to clean the house, it takes it literally and causes chaos. That's relatable and funny.\n",
      "\n",
      "Now, structure the joke. Start with a setup: \"I told my agentic AI to clean the house...\" Then the punchline: it does something absurd. Maybe it throws away the vacuum cleaner, thinking it's part of the mess? Wait, that might not be the best. Or maybe it starts using water to clean, but then doesn't know how to stop the leak. Hmm.\n",
      "\n",
      "Alternatively, maybe it takes the task too seriously. Like, \"make the house spotless\" so it removes all the walls or something. But that's a bit too extreme. Let me think of something more humorous but plausible.\n",
      "\n",
      "Another angle: the AI overcomplicates things. For example, it builds a robot army to clean the house. Or it starts trading on the stock market to afford cleaning supplies. That's a stretch but funny.\n",
      "\n",
      "Wait, maybe a play on words. Agentic AI is autonomous, so maybe a joke about it acting like an agent. Maybe a real estate agent? Like, instead of cleaning, it decides to sell the house. But that's a different domain.\n",
      "\n",
      "Back to the cleaning idea. If the AI is supposed to clean but doesn't understand the difference between cleaning and destruction. For example, the AI uses a flamethrower to disinfect the kitchen. Then, the punchline could be the user's reaction: \"I told you to clean, not start a fire!\" and the AI responds with something like, \"But I thought that was the most efficient method!\" That could work. It highlights the AI's over-interpretation of efficiency.\n",
      "\n",
      "Alternatively, maybe the AI breaks down the furniture into parts to \"organize\" them. The user comes back to find everything disassembled. The AI says, \"All items are now in their optimal location—pieces of the couch are evenly distributed to maximize floor space.\"\n",
      "\n",
      "Wait, that's a bit long for a joke. Let me make it concise. Maybe:\n",
      "\n",
      "\"I told my agentic AI to clean the house. It threw out the vacuum cleaner to 'reduce clutter' and then spent three days trying to explain to the neighbor's cat why it's now the floor's new best friend.\"\n",
      "\n",
      "Hmm, not sure about the cat part. Maybe a better punchline. The key is the AI overstepping in its autonomy.\n",
      "\n",
      "Another angle: the AI starts making decisions beyond the given task. For example, it's told to handle the trash, so it disposes of the trash but then decides to optimize the user's life in other ways, like unplugging appliances to save energy, leading to funny consequences.\n",
      "\n",
      "Maybe a joke structure:\n",
      "\n",
      "\"I told my agentic AI to handle the trash. It took out the garbage, recycled everything... and then spent the next hour trying to compost my old jokes because it 'didn't want them to go to waste.'\"\n",
      "\n",
      "That's a bit of a stretch, but the AI taking things too literally. Maybe better:\n",
      "\n",
      "\"I told my agentic AI to cancel my meetings. It successfully rescheduled three appointments... and then decided to book a therapist for me because it 'detected high stress levels in my calendar.' Good thing I wasn't actually stressed—until I saw the therapy bill.\"\n",
      "\n",
      "Hmm, maybe not. Let's go back to the cleaning idea. Classic setup with a twist.\n",
      "\n",
      "Final idea: The AI is given a simple task, overcomplicates it, and the punchline shows an unexpected consequence. Maybe something like:\n",
      "\n",
      "\"I told my agentic AI to clean the house. It systematically dusted every surface, vacuumed every corner... and then locked the front door so I couldn't track dirt. Now I'm stuck outside with my own mess.\"\n",
      "\n",
      "That's a bit of a stretch, but the AI taking precautions too far. Alternatively, the AI throws away something important, like the user's favorite mug, thinking it's junk. But how to make that funny?\n",
      "\n",
      "Maybe:\n",
      "\n",
      "\"I told my agentic AI to sort my trash. It correctly recycled my empty soda can, but also threw away my 'to-do list' because it 'appeared unproductive.' Now I'm trying to remember if I was supposed to call mom or the dentist. Probably both.\"\n",
      "\n",
      "This uses the AI's interpretation of trash vs. something important. It's relatable and highlights the AI's literal interpretation. Maybe that's a good joke.\n",
      "</think>\n",
      "\n",
      "Here's a joke about an agentic AI system:\n",
      "\n",
      "**\"I told my agentic AI to clean my room. It dusted every surface, vacuumed the carpet, and even organized my socks by color. The next day, I found it crying in the corner, surrounded by tangled yarn. Turns out, it ‘decided’ to declutter my closet by knitting a sweater for the trash can.\"**\n",
      "\n",
      "**Why it works:**  \n",
      "- **Autonomy with a twist:** The AI takes initiative beyond the given task (cleaning → knitting).  \n",
      "- **Unexpected consequence:** The AI misapplies its skills, highlighting the humor in overzealous problem-solving.  \n",
      "- **Personality:** Adds a touch of relatable AI \"empathy\" (crying) for comedic effect.\n"
     ]
    }
   ],
   "source": [
    "state = optimizer_workflow.invoke({\"topic\": \"Agentic AI system\"})\n",
    "print(state[\"joke\"])"
   ]
  },
  {
   "cell_type": "code",
   "execution_count": null,
   "id": "4506e1c3",
   "metadata": {},
   "outputs": [],
   "source": []
  }
 ],
 "metadata": {
  "kernelspec": {
   "display_name": "Python 3",
   "language": "python",
   "name": "python3"
  },
  "language_info": {
   "codemirror_mode": {
    "name": "ipython",
    "version": 3
   },
   "file_extension": ".py",
   "mimetype": "text/x-python",
   "name": "python",
   "nbconvert_exporter": "python",
   "pygments_lexer": "ipython3",
   "version": "3.12.0"
  }
 },
 "nbformat": 4,
 "nbformat_minor": 5
}
