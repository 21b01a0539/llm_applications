{
 "cells": [
  {
   "cell_type": "code",
   "execution_count": 1,
   "id": "b6716a08",
   "metadata": {},
   "outputs": [],
   "source": [
    "from typing_extensions import TypedDict\n",
    "from langgraph.graph import StateGraph,START,END\n",
    "\n",
    "## Reduces\n",
    "from typing import Annotated\n",
    "from langgraph.graph.message import add_messages\n"
   ]
  },
  {
   "cell_type": "code",
   "execution_count": 2,
   "id": "b18a7f11",
   "metadata": {},
   "outputs": [],
   "source": [
    "import os\n",
    "from dotenv import load_dotenv\n",
    "load_dotenv()\n",
    "os.environ[\"OPENAI_API_KEY\"] = os.getenv(\"OPENAI_API_KEY\")\n",
    "os.environ[\"GROQ_API_KEY\"] = os.getenv(\"GROQ_API_KEY\")\n",
    "os.environ[\"LANGCHAIN_API_KEY\"] = os.getenv(\"LANGCHAIN_API_KEY\")\n"
   ]
  },
  {
   "cell_type": "code",
   "execution_count": 8,
   "id": "e28dde56",
   "metadata": {},
   "outputs": [
    {
     "data": {
      "text/plain": [
       "AIMessage(content='Hello! How can I assist you today?', additional_kwargs={'refusal': None}, response_metadata={'token_usage': {'completion_tokens': 9, 'prompt_tokens': 8, 'total_tokens': 17, 'completion_tokens_details': {'accepted_prediction_tokens': 0, 'audio_tokens': 0, 'reasoning_tokens': 0, 'rejected_prediction_tokens': 0}, 'prompt_tokens_details': {'audio_tokens': 0, 'cached_tokens': 0}}, 'model_name': 'gpt-4o-2024-08-06', 'system_fingerprint': 'fp_07871e2ad8', 'id': 'chatcmpl-BgDKwz3SOf7noqmYJBRkL9iy7D8vr', 'service_tier': 'default', 'finish_reason': 'stop', 'logprobs': None}, id='run--b59c61c0-ef66-408a-8d27-40adf1688ce1-0', usage_metadata={'input_tokens': 8, 'output_tokens': 9, 'total_tokens': 17, 'input_token_details': {'audio': 0, 'cache_read': 0}, 'output_token_details': {'audio': 0, 'reasoning': 0}})"
      ]
     },
     "execution_count": 8,
     "metadata": {},
     "output_type": "execute_result"
    }
   ],
   "source": [
    "from langchain_openai import ChatOpenAI\n",
    "llm=ChatOpenAI(model=\"gpt-4o\")\n",
    "llm.invoke(\"Hello\")\n"
   ]
  },
  {
   "cell_type": "code",
   "execution_count": 3,
   "id": "4ede5f46",
   "metadata": {},
   "outputs": [
    {
     "data": {
      "text/plain": [
       "AIMessage(content='\\n<think>\\nOkay, the user wrote \"Hello\". I need to respond politely and offer help. Let me think of a friendly greeting.\\n\\nMaybe start with \"Hello!\" to be warm. Then ask how I can assist them today. Keep it open-ended so they can ask anything. Maybe add an emoji to keep it friendly. Let me check for typos. Yep, that looks good. Send!\\n</think>\\n\\nHello! How can I assist you today? 😊', additional_kwargs={}, response_metadata={'token_usage': {'completion_tokens': 92, 'prompt_tokens': 11, 'total_tokens': 103, 'completion_time': 0.2131181, 'prompt_time': 0.002899175, 'queue_time': 0.257874445, 'total_time': 0.216017275}, 'model_name': 'qwen-qwq-32b', 'system_fingerprint': 'fp_a91d9c2cfb', 'finish_reason': 'stop', 'logprobs': None}, id='run--8656581d-f34d-425c-af05-d3ee50b38794-0', usage_metadata={'input_tokens': 11, 'output_tokens': 92, 'total_tokens': 103})"
      ]
     },
     "execution_count": 3,
     "metadata": {},
     "output_type": "execute_result"
    }
   ],
   "source": [
    "from langchain_groq import ChatGroq\n",
    "groq=ChatGroq(model=\"qwen-qwq-32b\")\n",
    "groq.invoke(\"Hello\")\n"
   ]
  },
  {
   "cell_type": "code",
   "execution_count": 4,
   "id": "b6338ce0",
   "metadata": {},
   "outputs": [],
   "source": [
    "class State(TypedDict):\n",
    "    messages:Annotated[list,add_messages]"
   ]
  },
  {
   "cell_type": "code",
   "execution_count": 5,
   "id": "b6d6d0ea",
   "metadata": {},
   "outputs": [],
   "source": [
    "def chatbot(state: State):\n",
    "    return {\"messages\": [groq.invoke(state[\"messages\"])]}\n"
   ]
  },
  {
   "cell_type": "code",
   "execution_count": 6,
   "id": "510229e5",
   "metadata": {},
   "outputs": [
    {
     "data": {
      "image/png": "[encoded data removed]",
      "text/plain": [
       "<IPython.core.display.Image object>"
      ]
     },
     "metadata": {},
     "output_type": "display_data"
    }
   ],
   "source": [
    "from IPython.display import Image\n",
    "graph = StateGraph(State)\n",
    "graph.add_node(\n",
    "    \"chatbot\",\n",
    "    chatbot\n",
    ")\n",
    "\n",
    "graph.add_edge(START,\"chatbot\")\n",
    "graph.add_edge(\"chatbot\",END)\n",
    "\n",
    "graph_builder = graph.compile()\n",
    "display(Image(graph_builder.get_graph().draw_mermaid_png()))"
   ]
  },
  {
   "cell_type": "code",
   "execution_count": 8,
   "id": "f5c2ebb3",
   "metadata": {},
   "outputs": [
    {
     "data": {
      "text/plain": [
       "{'messages': [HumanMessage(content='Hi Iam Jaya,Iam really interested in Cybersecurity', additional_kwargs={}, response_metadata={}, id='484ea3b6-4b31-416d-8db3-4b04eb9ab175'),\n",
       "  AIMessage(content='\\n<think>\\nOkay, so the user is Jaya, and they\\'re really interested in Cybersecurity. Let me start by welcoming them and acknowledging their interest. I should make sure to keep the tone friendly and encouraging. \\n\\nFirst, I need to outline the key areas in Cybersecurity. Let me think, the main branches are like Network Security, Information Security, Cloud Security, etc. Maybe list a few of those and explain them briefly. \\n\\nThen, they might need resources to get started. Suggesting online courses is a good idea. Platforms like Coursera, Udemy, or freeCodeCamp come to mind. Mentioning specific certifications like CompTIA Security+, CEH, CISSP would be helpful, but maybe note that some are entry-level and others require experience. \\n\\nPractical skills are important too. Tools like Wireshark for packet analysis, Metasploit for penetration testing, and maybe some scripting with Python. Oh, and setting up a lab environment using virtual machines could be useful. \\n\\nSoft skills are often overlooked. Problem-solving, attention to detail, and communication are crucial. Maybe mention that they\\'ll need to work in teams. \\n\\nStaying updated is key in this field. Recommending following blogs, podcasts, and joining communities on Reddit or Discord. Also, participating in CTFs (Capture the Flag) events can help build hands-on experience. \\n\\nEthics and responsibility should be addressed. Emphasize that understanding the legal and ethical aspects is important. \\n\\nCareer paths: maybe list some roles like Cybersecurity Analyst, Ethical Hacker, CISO, etc. Highlighting the importance of starting with a bachelor\\'s degree or relevant certifications. \\n\\nPutting all this together in a structured way without making it too overwhelming. Use bullet points or sections for each topic. Keep the language simple and conversational. \\n\\nWait, should I ask if they have any specific areas they want to focus on? Maybe end with an open question to invite further discussion. \\n\\nAlso, make sure the advice is actionable. Instead of just listing things, give them a path. Like start with courses, get a certification, build practical skills through labs and CTFs, etc. \\n\\nI should check if all the information is accurate. For example, CISSP does require 5 years of experience, so maybe mention that as more advanced. \\n\\nAvoid using jargon too much, since they\\'re just starting out. Explain terms when necessary. \\n\\nHmm, maybe also touch on the importance of networking with other professionals, attending conferences or webinars. \\n\\nAlright, structuring the response into clear sections with headings might help. But since the user might be on a platform where formatting is limited, using simple markdown or just plain text. \\n\\nWait, the user\\'s initial message is in the query, so I should make sure the response is in natural paragraphs, not bullet points, unless they prefer it that way. \\n\\nAlternatively, since the user is new, breaking it down into steps or numbered points could make it easier to digest. \\n\\nI think that\\'s a solid plan. Now, let me put it all together in a friendly and helpful way.\\n</think>\\n\\nHello Jaya! It\\'s fantastic to hear about your interest in cybersecurity. This is an exciting and critical field with endless opportunities. Let me help you get started with some key areas and resources to explore:\\n\\n---\\n\\n### **1. Key Areas to Explore**  \\nCybersecurity is vast, so narrowing your focus can help. Common branches include:  \\n- **Network Security**: Protecting data during transmission (e.g., firewalls, encryption).  \\n- **Information Security (InfoSec)**: Safeguarding data confidentiality, integrity, and availability.  \\n- **Cloud Security**: Securing cloud-based services like AWS, Azure, or Google Cloud.  \\n- **Ethical Hacking**: Learning to \"hack\" systems to identify vulnerabilities (often called penetration testing).  \\n- **Cyber Law & Ethics**: Understanding legal and ethical responsibilities (e.g., GDPR, data privacy laws).  \\n\\n---\\n\\n### **2. Learning Resources**  \\n#### **Free Courses & Tutorials**  \\n- **Coursera/edX**: Look for courses like \"Introduction to Cybersecurity\" (IBM) or \"Cybersecurity Specialization\" (University of Maryland).  \\n- **Cybrary**: Free courses on topics like CompTIA Security+ and networking.  \\n- **Google’s Cybersecurity Cert** (free online program).  \\n\\n#### **Certifications (Start with Entry-Level)**  \\n- **CompTIA Security+**: Great foundational certification.  \\n- **CEH (Certified Ethical Hacker)**: Focuses on penetration testing.  \\n- **CompTIA Cybersecurity Analyst (CySA+)**: Expands on Security+.  \\n- **OSCP (Offensive Security Certified Professional)**: Practical, hands-on certification (more advanced).  \\n\\n#### **Books**  \\n- *The Basics of Hacking and Penetration Testing* by Lenny Zeltser.  \\n- *Cybersecurity for Beginners* by Ben Smith.  \\n\\n---\\n\\n### **3. Practical Skills to Build**  \\n- **Learn Networking**: Start with TCP/IP, DNS, and Wi-Fi fundamentals.  \\n- **Use Tools**:  \\n  - *Wireshark* for packet analysis.  \\n  - *Kali Linux* for ethical hacking.  \\n  - *Burp Suite* for web app testing.  \\n  - *Python/PowerShell* for scripting (e.g., automating tasks).  \\n- **Set Up a Lab**: Use virtual machines (VMs) on platforms like VirtualBox to practice safely.  \\n\\n#### **Hands-On Practice**  \\n- **CTFs (Capture the Flag)**: Try platforms like [CTFTime](https://ctftime.org) or [OverTheWire](https://overthewire.org).  \\n- **Bug Bounty Platforms**: Start on HackerOne or Bugcrowd (requires skill, but great for real-world practice).  \\n\\n---\\n\\n### **4. Stay Updated**  \\n- **Follow Blogs/Podcasts**:  \\n  - *Krebs on Security*, *The Hacker News*, or podcasts like *Darknet Diaries*.  \\n- **Join Communities**:  \\n  - Reddit (r/netsec, r/penetrationtesting), Discord groups, or local meetups.  \\n\\n---\\n\\n### **5. Career Pathways**  \\nCommon roles to aim for:  \\n- **Cybersecurity Analyst** (entry-level).)  \\n- **Penetration Tester/Ethical Hacker** (after gaining hands-on experience).  \\n- **Incident Responder** or **Security Architect** (mid-career roles).)  \\n\\n---\\n\\n### **6. Soft Skills That Matter**  \\n- Problem-solving and analytical thinking.  \\n- Attention to detail (e.g., spotting vulnerabilities).)  \\n- Communication (reporting findings to non-technical teams).)  \\n\\n---\\n\\n### **Next Steps You Could Take Today**  \\n1. Enroll in a free course (e.g., Google’s Cybersecurity Cert program).).  \\n2. Download Kali Linux or try a CTF challenge (e.g., [TryHackMe](https://tryhackme.com)).  \\n3. Follow a few cybersecurity influencers on Twitter or LinkedIn for updates.  \\n\\n---\\n\\n### **Final Tip**  \\nStart small and build gradually. What’s one thing you’d like to explore first? Let me know, and I can guide you deeper into that area!  \\n\\nExcited to see where your journey takes you, Jaya! 😊', additional_kwargs={}, response_metadata={'token_usage': {'completion_tokens': 1528, 'prompt_tokens': 22, 'total_tokens': 1550, 'completion_time': 3.522793065, 'prompt_time': 0.00314569, 'queue_time': 0.26061223, 'total_time': 3.525938755}, 'model_name': 'qwen-qwq-32b', 'system_fingerprint': 'fp_9faf42d81f', 'finish_reason': 'stop', 'logprobs': None}, id='run--2bda38b7-f851-498c-a83c-c3a1193644a3-0', usage_metadata={'input_tokens': 22, 'output_tokens': 1528, 'total_tokens': 1550})]}"
      ]
     },
     "execution_count": 8,
     "metadata": {},
     "output_type": "execute_result"
    }
   ],
   "source": [
    "graph_builder.invoke({\"messages\": [{\"role\": \"user\", \"content\": \"Hi Iam Jaya,Iam really interested in Cybersecurity\"}]})\n"
   ]
  },
  {
   "cell_type": "code",
   "execution_count": 14,
   "id": "b08a4ed7",
   "metadata": {},
   "outputs": [
    {
     "name": "stdout",
     "output_type": "stream",
     "text": [
      "{'chatbot': {'messages': [AIMessage(content='\\n<think>\\nOkay, so the user is Jaya, and they\\'re really into cybersecurity. Let me think about how to respond. First, I should welcome them and express enthusiasm. Then, maybe ask about their background? Are they a student, someone starting a career, or just a hobbyist? Knowing that could help tailor the advice.\\n\\nI should mention some key areas in cybersecurity to give them an overview. Maybe topics like networking, cryptography, ethical hacking, and security frameworks. Suggesting learning resources would be helpful—like online courses, books, or certifications. Certifications like CompTIA Security+, CEH, or CISSP come to mind, but maybe start with the entry-level ones first.\\n\\nAlso, practical experience is important. Maybe recommend trying out tools like Wireshark, Metasploit, or setting up a lab environment. Open-source tools could be a good start. Encouraging participation in CTFs (Capture The Flag) events would be useful for hands-on experience.\\n\\nCommunity involvement could be another point. Suggesting forums, LinkedIn groups, or local meetups. Maybe mention some reputable platforms like HackerOne for bug bounty programs when they\\'re ready.\\n\\nEthics and staying updated on the latest threats and trends is important too. Advising them to follow reputable sources or journals. Also, soft skills like communication and problem-solving are crucial in the field.\\n\\nI should make sure the tone is encouraging and supportive. Maybe end with an open question to keep the conversation going, like asking about their goals or where they want to focus next. Let me structure this step by step without using markdown, keeping it friendly and helpful.\\n</think>\\n\\nHi Jaya! Welcome to the exciting world of cybersecurity! 😊 I\\'m thrilled to hear about your interest. This field is ever-evolving and full of challenges and opportunities. Let me help you get started!\\n\\n### 1. **First, a few questions to understand your journey:**\\n   - Are you just starting out, or do you have some experience already?\\n   - What aspects of cybersecurity interest you most?  \\n     (e.g., penetration testing, network security, malware analysis, compliance, digital forensics, etc.)\\n   - What’s your goal? (e.g., career shift, hobby, academic pursuit?)\\n\\n### 2. **Key Areas to Explore:**\\n   - **Fundamentals:**  \\n     - Networking (TCP/IP, OSI model, subnetting).  \\n     - Operating systems (Linux/Windows security).  \\n     - Cryptography (encryption, hashing, digital signatures).  \\n     - Security frameworks (NIST, ISO 27001, GDPR, etc.).  \\n   - **Practical Skills:**  \\n     - Tools like Wireshark (network analysis), Kali Linux (penetration testing), or Burp Suite (web app security).  \\n     - Scripting (Python, Bash) for automating tasks.  \\n   - **Certifications:**  \\n     - Start with entry-level: **CompTIA Security+** or **ISC² SSCP** to build a foundation.  \\n     - Later, explore **CEH (Certified Ethical Hacker)** or **OSCP (Offensive Security)** for hands-on penetration testing.  \\n\\n### 3. **Learning Resources:**\\n   - **Free Courses:**  \\n     - [Cybrary](https://cybrary.it/) (great for beginners).  \\n     - [Coursera](https://www.coursera.org) (look for courses from NYU or IBM).  \\n     - [Khan Academy](https://www.khanacademy.org) for basics like cryptography.  \\n   - **Books:**  \\n     - *“The Web Application Hacker’s Handbook”* for web security.  \\n     - *“Practical Malware Analysis”* if you’re into reverse engineering.  \\n   - **Practice Platforms:**  \\n     - **TryHackMe** or **Hack The Box** for hands-on labs.  \\n     - **CTFs (Capture The Flag)** competitions (e.g., [OverTheWire](https://overthewire.org)).  \\n\\n### 4. **Build a Lab:**\\n   - Set up a home lab using VMs (Virtual Machines) to practice safely.  \\n   - Use **VirtualBox** or **Proxmox** and try vulnerable VMs like **Metasploitable**.  \\n\\n### 5. **Stay Updated:**\\n   - Follow blogs like *Dark Reading*, *Krebs on Security*, or *Bleeping Computer*.  \\n   - Join communities like Reddit’s r/netsec, Stack Exchange, or local cybersecurity groups.  \\n\\n### 6. **Ethics & Mindset:**\\n   - Always follow the **\"Do No Harm\"** rule—never test systems without permission.  \\n   - Develop a problem-solving mindset and attention to detail.  \\n\\n### 7. **Career Pathways:**  \\n   - Roles like Security Analyst, Penetration Tester, Incident Responder, or Cyber Law Specialist.  \\n   - Networking with professionals (online or at conferences like DEF CON or Black Hat) can open doors.  \\n\\n---\\n\\nLet me know where you’d like to dive deeper—I’m happy to guide you! What’s your first step? 😊', additional_kwargs={}, response_metadata={'token_usage': {'completion_tokens': 1070, 'prompt_tokens': 22, 'total_tokens': 1092, 'completion_time': 2.472931598, 'prompt_time': 0.003155865, 'queue_time': 0.254783395, 'total_time': 2.476087463}, 'model_name': 'qwen-qwq-32b', 'system_fingerprint': 'fp_a91d9c2cfb', 'finish_reason': 'stop', 'logprobs': None}, id='run--3168cc4c-0afc-4b44-be75-eb744057727f-0', usage_metadata={'input_tokens': 22, 'output_tokens': 1070, 'total_tokens': 1092})]}}\n"
     ]
    }
   ],
   "source": [
    "## Streaming the responses\n",
    "## stream_mode=\"values\" will return all the responses from the chatbot , \"updates will return the latest message from the chatbot\n",
    "\n",
    "for event in graph_builder.stream({\"messages\": \"Hi Iam Jaya,Iam really interested in Cybersecurity\"},stream_mode=\"updates\"):\n",
    "    print(event)"
   ]
  }
 ],
 "metadata": {
  "kernelspec": {
   "display_name": "Python 3",
   "language": "python",
   "name": "python3"
  },
  "language_info": {
   "codemirror_mode": {
    "name": "ipython",
    "version": 3
   },
   "file_extension": ".py",
   "mimetype": "text/x-python",
   "name": "python",
   "nbconvert_exporter": "python",
   "pygments_lexer": "ipython3",
   "version": "3.12.0"
  }
 },
 "nbformat": 4,
 "nbformat_minor": 5
}
