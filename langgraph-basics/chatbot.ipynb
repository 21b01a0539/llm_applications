{
 "cells": [
  {
   "cell_type": "code",
   "execution_count": 16,
   "id": "b6716a08",
   "metadata": {},
   "outputs": [],
   "source": [
    "from typing_extensions import TypedDict\n",
    "from langgraph.graph import StateGraph,START,END\n",
    "\n",
    "## Reduces\n",
    "from typing import Annotated\n",
    "from langgraph.graph.message import add_messages\n"
   ]
  },
  {
   "cell_type": "code",
   "execution_count": 17,
   "id": "b18a7f11",
   "metadata": {},
   "outputs": [],
   "source": [
    "import os\n",
    "from dotenv import load_dotenv\n",
    "load_dotenv()\n",
    "os.environ[\"OPENAI_API_KEY\"] = os.getenv(\"OPENAI_API_KEY\")\n",
    "os.environ[\"GROQ_API_KEY\"] = os.getenv(\"GROQ_API_KEY\")\n",
    "os.environ[\"LANGCHAIN_API_KEY\"] = os.getenv(\"LANGCHAIN_API_KEY\")\n"
   ]
  },
  {
   "cell_type": "code",
   "execution_count": 18,
   "id": "e28dde56",
   "metadata": {},
   "outputs": [
    {
     "data": {
      "text/plain": [
       "AIMessage(content='Hello! How can I assist you today?', additional_kwargs={'refusal': None}, response_metadata={'token_usage': {'completion_tokens': 9, 'prompt_tokens': 8, 'total_tokens': 17, 'completion_tokens_details': {'accepted_prediction_tokens': 0, 'audio_tokens': 0, 'reasoning_tokens': 0, 'rejected_prediction_tokens': 0}, 'prompt_tokens_details': {'audio_tokens': 0, 'cached_tokens': 0}}, 'model_name': 'gpt-4o-2024-08-06', 'system_fingerprint': 'fp_07871e2ad8', 'id': 'chatcmpl-BglBQ0TrUxSZXB3Tf0RJdAGlKhWpN', 'service_tier': 'default', 'finish_reason': 'stop', 'logprobs': None}, id='run--304a02d3-8596-4617-b04b-e1913360edbd-0', usage_metadata={'input_tokens': 8, 'output_tokens': 9, 'total_tokens': 17, 'input_token_details': {'audio': 0, 'cache_read': 0}, 'output_token_details': {'audio': 0, 'reasoning': 0}})"
      ]
     },
     "execution_count": 18,
     "metadata": {},
     "output_type": "execute_result"
    }
   ],
   "source": [
    "from langchain_openai import ChatOpenAI\n",
    "llm=ChatOpenAI(model=\"gpt-4o\")\n",
    "llm.invoke(\"Hello\")\n"
   ]
  },
  {
   "cell_type": "code",
   "execution_count": 19,
   "id": "4ede5f46",
   "metadata": {},
   "outputs": [
    {
     "data": {
      "text/plain": [
       "AIMessage(content='\\n<think>\\nOkay, the user said \"Hello\". I should respond politely. Let me think of a friendly greeting. Maybe \"Hello! How can I assist you today?\" That sounds good. It\\'s open-ended and invites them to state their needs. I should make sure to keep it simple and not overcomplicate. Yeah, that should work.\\n</think>\\n\\nHello! How can I assist you today?', additional_kwargs={}, response_metadata={'token_usage': {'completion_tokens': 80, 'prompt_tokens': 11, 'total_tokens': 91, 'completion_time': 0.194337069, 'prompt_time': 0.003146979, 'queue_time': 1.3219848049999998, 'total_time': 0.197484048}, 'model_name': 'qwen-qwq-32b', 'system_fingerprint': 'fp_1e88ca32eb', 'finish_reason': 'stop', 'logprobs': None}, id='run--4e0f26dc-1b48-4d36-9607-b4fc202999db-0', usage_metadata={'input_tokens': 11, 'output_tokens': 80, 'total_tokens': 91})"
      ]
     },
     "execution_count": 19,
     "metadata": {},
     "output_type": "execute_result"
    }
   ],
   "source": [
    "from langchain_groq import ChatGroq\n",
    "groq=ChatGroq(model=\"qwen-qwq-32b\")\n",
    "groq.invoke(\"Hello\")\n"
   ]
  },
  {
   "cell_type": "code",
   "execution_count": 20,
   "id": "b6338ce0",
   "metadata": {},
   "outputs": [],
   "source": [
    "class State(TypedDict):\n",
    "    messages:Annotated[list,add_messages]"
   ]
  },
  {
   "cell_type": "code",
   "execution_count": 21,
   "id": "b6d6d0ea",
   "metadata": {},
   "outputs": [],
   "source": [
    "def chatbot(state: State):\n",
    "    return {\"messages\": [groq.invoke(state[\"messages\"])]}\n"
   ]
  },
  {
   "cell_type": "code",
   "execution_count": 22,
   "id": "510229e5",
   "metadata": {},
   "outputs": [
    {
     "data": {
      "image/png": "[encoded data removed]",
      "text/plain": [
       "<IPython.core.display.Image object>"
      ]
     },
     "metadata": {},
     "output_type": "display_data"
    }
   ],
   "source": [
    "from IPython.display import Image\n",
    "graph = StateGraph(State)\n",
    "graph.add_node(\n",
    "    \"chatbot\",\n",
    "    chatbot\n",
    ")\n",
    "\n",
    "graph.add_edge(START,\"chatbot\")\n",
    "graph.add_edge(\"chatbot\",END)\n",
    "\n",
    "graph_builder = graph.compile()\n",
    "display(Image(graph_builder.get_graph().draw_mermaid_png()))"
   ]
  },
  {
   "cell_type": "code",
   "execution_count": 23,
   "id": "f5c2ebb3",
   "metadata": {},
   "outputs": [
    {
     "data": {
      "text/plain": [
       "{'messages': [HumanMessage(content='Hi Iam Jaya,Iam really interested in Cybersecurity', additional_kwargs={}, response_metadata={}, id='132e85a8-365c-4f0f-9c70-2d94be81e7e1'),\n",
       "  AIMessage(content=\"\\n<think>\\nOkay, the user introduced themselves as Jaya and mentioned an interest in cybersecurity. I should welcome them and ask about their background. Maybe they're new to the field or have some experience. Let me make sure to keep the response friendly and encouraging. I'll also mention some common entry points into cybersecurity like education, certifications, or self-study. It's important to invite them to share more so I can give tailored advice. Need to avoid jargon and keep it approachable. Maybe suggest some resources or areas to explore. Let me structure the response to be open-ended and supportive.\\n</think>\\n\\nHello Jaya! Welcome to the world of cybersecurity—it's an exciting and ever-evolving field! 😊 Could you share a bit more about your background or what specifically interests you about cybersecurity? For example:\\n\\n- Are you just starting out, or do you have experience in tech?\\n- What aspects appeal to you (e.g., network security, ethical hacking, privacy, risk management)?\\n- Are you looking to transition into this field, or are you still exploring?\\n\\nThis will help me give you tailored advice! In the meantime, here are a few entry points to consider:\\n\\n1. **Learn the Basics**: Start with foundational concepts like networking, operating systems, and cryptography.\\n2. **Certifications**: Explore beginner certs like **CompTIA Security+** or **CySA+** to build a strong foundation.\\n3. **Practice**: Platforms like **TryHackMe**, **CyberStart**, or **CTF (Capture The Flag)** events can help you gain hands-on experience.\\n4. **Stay Curious**: Follow blogs, podcasts, and communities (e.g., Reddit’s r/netsec or cybersecurity Twitter/X accounts).\\n\\nLet me know how I can help you dive deeper!\", additional_kwargs={}, response_metadata={'token_usage': {'completion_tokens': 361, 'prompt_tokens': 22, 'total_tokens': 383, 'completion_time': 0.890870015, 'prompt_time': 0.003387056, 'queue_time': 0.298081026, 'total_time': 0.894257071}, 'model_name': 'qwen-qwq-32b', 'system_fingerprint': 'fp_512a3da6bb', 'finish_reason': 'stop', 'logprobs': None}, id='run--c2ccb776-be67-4080-9e8a-7e5278e10b46-0', usage_metadata={'input_tokens': 22, 'output_tokens': 361, 'total_tokens': 383})]}"
      ]
     },
     "execution_count": 23,
     "metadata": {},
     "output_type": "execute_result"
    }
   ],
   "source": [
    "graph_builder.invoke({\"messages\": [{\"role\": \"user\", \"content\": \"Hi Iam Jaya,Iam really interested in Cybersecurity\"}]})\n"
   ]
  },
  {
   "cell_type": "code",
   "execution_count": 24,
   "id": "b08a4ed7",
   "metadata": {},
   "outputs": [
    {
     "name": "stdout",
     "output_type": "stream",
     "text": [
      "{'chatbot': {'messages': [AIMessage(content='\\n<think>\\nOkay, so I\\'m Jaya, and I\\'m really interested in cybersecurity. I want to learn more about this field and figure out how to get started. Let me think about what I know already. I know cybersecurity has something to do with protecting computers, networks, and data from attacks. But I\\'m not exactly sure what all the different areas are. Maybe I should start by breaking down the basics.\\n\\nFirst, I should probably understand the core concepts of cybersecurity. What are the main principles? I remember hearing terms like confidentiality, integrity, and availability. Those are part of the CIA triad, right? So confidentiality is keeping data private, integrity is ensuring data isn\\'t altered without authorization, and availability means making sure data is accessible when needed. That makes sense. But how do these principles apply in real-world scenarios?\\n\\nThen there are the types of attacks. I think there are things like phishing, malware, ransomware, DDoS attacks... but I\\'m not exactly sure about each one. Maybe I should list out common attack types and their explanations. Like, phishing is when someone tries to trick you into giving away sensitive info through emails or fake websites. Ransomware is when attackers encrypt your data and demand a ransom to decrypt it. DDoS attacks involve overwhelming a network with traffic to make it unavailable. Malware is a broad term for malicious software, which includes viruses, worms, trojans, etc.\\n\\nHmm, maybe I should also look into the different roles in cybersecurity. I\\'ve heard of ethical hackers, penetration testers, security analysts, infosec managers, and maybe cybersecurity engineers. Each role probably requires different skills and certifications. What\\'s the difference between a penetration tester and an ethical hacker? Maybe they\\'re similar? Or maybe one is more about testing systems and the other is a broader role?\\n\\nI also need to think about the educational path. Do I need a degree in cybersecurity, or can I learn through certifications? I know that certifications like CompTIA Security+, CISSP, CEH (Certified Ethical Hacker) are common. But what\\'s the best order to pursue them? Like, should I start with CompTIA Security+ first, which is an entry-level certification, and then move up?\\n\\nAlso, practical skills are important. I should probably learn about networks, operating systems, maybe some programming. I know Python is used in cybersecurity for scripting and automation. SQL for databases, maybe some knowledge of Linux systems since they are common in server environments. Also, understanding how firewalls, IDS/IPS systems work. Maybe setting up a lab environment to practice in?\\n\\nWait, setting up a lab sounds fun but also a bit intimidating. How do people usually do that? Maybe using virtual machines with tools like Kali Linux? Oh, Kali Linux is a favorite for penetration testing. There\\'s also Metasploit framework for exploiting vulnerabilities. But how do I even start using those without breaking anything? Maybe virtual machines are isolated so they don\\'t affect my actual system.\\n\\nI should also look into resources. Are there free online courses or paid ones? Coursera, Udemy, maybe freeCodeCamp or edX have courses. Also, reading books like \"The Web Application Hacker\\'s Handbook\" or \"Hacking Exposed\" could be helpful. But maybe start with beginner-friendly books first.\\n\\nHands-on practice is crucial. Maybe participating in CTFs (Capture The Flag) competitions to apply knowledge in real scenarios. There are platforms like Hack The Box, TryHackMe, or OverTheWire. Those might help build practical skills.\\n\\nNetworking with others in the field could also help. Maybe joining online communities on Reddit, Stack Exchange, or LinkedIn groups. Attending webinars or conferences when possible. But as a beginner, how do I start engaging in those communities?\\n\\nI should also consider the difference between offensive and defensive cybersecurity. Offensive would be penetration testing, hacking, finding vulnerabilities. Defensive is more about securing systems, monitoring, incident response. Which area am I more interested in? Maybe start with the basics and then specialize later.\\n\\nSoft skills are probably important too. Problem-solving, attention to detail, communication, since you have to explain technical issues to non-technical people. Maybe learning to write reports or present findings.\\n\\nWait, what about the legal and ethical aspects? Since cybersecurity involves handling sensitive information, ethics and compliance are important. Understanding laws like GDPR, HIPAA, or other regulations depending on the industry.\\n\\nAlso, staying updated on the latest threats and vulnerabilities. Subscribing to newsletters like KrebsOnSecurity, following security blogs, or using vulnerability databases like CVE (Common Vulnerabilities and Exposures).\\n\\nHmm, I might be overwhelmed with all this information. Let me try to structure a plan step by step.\\n\\n1. Start with the basics: Learn the fundamental concepts, terminology, and core principles. Maybe take an introductory course or read a book like \"Cybersecurity for Dummies\" or something similar.\\n\\n2. Choose a learning path: Decide if I want to go into a specific area like penetration testing, network security, cloud security, etc. But maybe start with a general foundation first.\\n\\n3. Gain technical skills: Learn networking basics (TCP/IP, OSI model), operating systems (Linux, Windows), scripting (Python, Bash), and databases (SQL). Maybe take a course on cybersecurity fundamentals.\\n\\n4. Get certified: Start with CompTIA Security+, then maybe Network+ and A+ for foundational knowledge. Then move to more advanced certs like CEH, OSCP, CISSP once I have more experience.\\n\\n5. Set up a home lab: Use VMs to practice. Install Kali Linux, set up靶场 environments to try penetration testing. Learn tools like Nmap, Wireshark, Burp Suite.\\n\\n6. Participate in CTFs and online challenges to apply knowledge and get hands-on experience.\\n\\n7. Engage with the community: Join forums, attend meetups, follow professionals on social media.\\n\\n8. Maybe get an internship or entry-level job to gain real-world experience. But as a beginner, how do I get my first job without experience? Maybe start as a support technician and work my way up.\\n\\n9. Continue learning and staying updated. Cybersecurity is always evolving, so ongoing education is key.\\n\\nWait, but what about programming? I\\'ve heard that knowing Python is helpful. Maybe start with basic Python for scripting, like writing scripts to automate tasks, or using it in penetration testing for things like creating payloads or automating scans.\\n\\nAlso, understanding network security: how firewalls work, setting up secure networks, configuring routers and switches securely. Maybe taking a course on network security.\\n\\nI should also look into incident response. Learning how to detect breaches, respond to incidents, and mitigate attacks. That\\'s part of incident response plans and procedures.\\n\\nAnother thing is cryptography. Basics of encryption, hashing, digital certificates. Understanding SSL/TLS, how secure communications work.\\n\\nCloud security is another area with the rise of cloud services like AWS, Azure, and GCP. Maybe learning cloud-specific security practices would be beneficial.\\n\\nHmm, where to start? Maybe start with CompTIA Security+ because it\\'s a common starting point. The exam covers security fundamentals, risk management, network security, compliance, cryptography, etc. That could give a good foundation.\\n\\nBefore that, maybe take a free course on edX or Coursera to get an overview. Like the \"Introduction to Cybersecurity\" courses. Then study for CompTIA Security+.\\n\\nOnce I have some foundational knowledge, set up a lab. Maybe download VirtualBox, set up a VM with Kali Linux. Then start experimenting with tools like Nmap for scanning, Wireshark for packet analysis, maybe some web application testing using Burp Suite. Follow along with tutorials on YouTube or TryHackMe to get hands-on.\\n\\nParticipating in CTFs can help apply the skills. Maybe start with beginner challenges on platforms like TryHackMe or Hack The Box. Joining forums like Reddit\\'s r/netsec or r/penetrationtesting for advice and resources.\\n\\nNetworking: Follow cybersecurity professionals on Twitter, LinkedIn, or YouTube. Maybe look into online communities or Discord servers dedicated to cybersecurity learners.\\n\\nEthical considerations: Always ensure that any hacking I do is authorized. Maybe start with my own systems or set up a lab where I have permission to test.\\n\\nCareer-wise, entry-level positions might include IT support, security analyst, maybe a junior role that requires CompTIA or similar certs. Then work up to more specialized roles.\\n\\nPotential obstacles: The cost of certifications, time commitment, and the steep learning curve for advanced topics. Maybe start with free resources first, then move to paid ones.\\n\\nI also need to understand common attacks like SQL injection, cross-site scripting (XSS), and how to defend against them. Maybe learning web application security concepts.\\n\\nOverall, the path seems to involve a mix of theoretical knowledge, practical skills, certifications, networking, and continuous learning. I should start small, build a foundation, and gradually move into more complex areas.\\n\\nWait, should I also learn about security policies and compliance? Like ISO 27001, GDPR, HIPAA. Understanding how to comply with regulations might be important in a corporate environment.\\n\\nPenetration testing might require more technical skills, while managerial roles might focus more on policy and strategy. Need to decide on my career path, but starting with the basics is key.\\n\\nI think the key steps are:\\n\\n1. Learn core concepts (CIA triad, attack vectors, security controls).\\n\\n2. Get foundational certifications (CompTIA Security+).\\n\\n3. Develop technical skills through courses and practice.\\n\\n4. Build a lab environment to experiment safely.\\n\\n5. Participate in CTFs and challenges.\\n\\n6. Engage with the community for support and learning.\\n\\n7. Pursue relevant certifications aligned with career goals.\\n\\n8. Gain real-world experience through internships or entry-level jobs.\\n\\n9. Continuously update skills and knowledge.\\n\\nI should also consider the time needed. Some certs require experience before taking the exam, but CompTIA Security+ is entry-level so no prior experience needed. CISSP requires 5 years of experience, so that\\'s later.\\n\\nMight need to learn about different attack vectors and defense mechanisms. For example, how to harden a system against common attacks, configure security settings on devices, understand vulnerabilities in software and networks.\\n\\nAnother thought: learning how to use defensive tools like firewalls, SIEM (Security Information and Event Management) systems, intrusion detection systems.\\n\\nMaybe start by mapping out a study plan. Allocate time each week for study, practice, and hands-on work.\\n\\nAlso, soft skills like problem-solving, communication, and teamwork are important for working in a team environment.\\n\\nI should also look into employment opportunities to know what skills are in demand. Maybe specializing in a specific area like cloud security or ethical hacking.\\n\\nBut first, start with the basics. Let me outline a possible roadmap:\\n\\n- Month 1-2: Study for CompTIA Security+. Use study guides, online courses, practice exams.\\n\\n- Month 3-4: Start setting up a home lab. Learn VM setup, basic penetration testing tools.\\n\\n- Month 5-6: Begin participating in CTFs, try simple challenges, read through tutorials.\\n\\n- Month 7-12: Decide on a specialization area, maybe go for CEH or OSCP, study for those while building skills.\\n\\nAlongside, work on learning programming, especially Python, for scripting.\\n\\nBut this is a rough idea. Maybe adjust as I go.\\n\\nI need to make sure I don\\'t get overwhelmed. Start with a single goal, like passing CompTIA Security+, then move on step by step.\\n\\nAlso, maybe read case studies of real-world breaches to understand how attacks work and how defenses were bypassed.\\n\\nLearning how to secure systems: setting up secure configurations, applying patches, managing user accounts, understanding IAM (Identity and Access Management).\\n\\nFirewalls: how to configure them, understand inbound/outbound rules.\\n\\nAntivirus/anti-malware tools, how they work and their limitations.\\n\\nEncryption: different types (symmetric, asymmetric), PKI (Public Key Infrastructure).\\n\\nSocial engineering is another aspect. Even with technical skills, social engineering attacks rely on human factors. Learning to spot phishing attempts, creating security awareness.\\n\\nWait, what about mobile security? Mobile devices and IoT security? Maybe that\\'s an area to explore later, but basics first.\\n\\nI think the key is to start with the fundamentals, then build up technical skills and certifications, and gain practical experience through labs and challenges.\\n\\nAlso, documentation is important. Keeping a notebook or digital notes of what I learn, maybe a portfolio of projects or write-ups from CTFs.\\n\\nI should check out what employers look for in entry-level positions. They might want CompTIA Security+, some knowledge of networking, and practical skills in vulnerability assessments, etc.\\n\\nNetworking knowledge: understanding ports, protocols (HTTP, HTTPS, SSH), how data is transmitted, common vulnerabilities in network protocols.\\n\\nOSI model layers: understanding each layer and possible attacks at each layer.\\n\\nI think I need to structure my learning into these areas systematically. Maybe use a combination of online courses, hands-on projects, and reading.\\n\\nAlso, considering cybersecurity is a broad field, focusing on an area could help. Maybe start with generalist skills and then specialize.\\n\\nOkay, I think I have a rough idea. Now, to organize this into a structured path with resources.\\n</think>\\n\\nWelcome to the world of cybersecurity, Jaya! It\\'s an exciting and dynamic field, and your enthusiasm is a great start. Below is a structured, step-by-step roadmap to help you build a solid foundation and advance in this field:\\n\\n---\\n\\n### **1. Core Concepts & Fundamentals**\\n- **Learn Core Principles**:\\n  - CIA Triad (Confidentiality, Integrity, Availability).\\n  - Common attack types (e.g., phishing, ransomware, DDoS, SQL injection, XSS).\\n  - Basics of cryptography (encryption, hashing, PKI).\\n  \\n- **Resources**:\\n  - Free courses: [Coursera\\'s \"Cybersecurity Fundamentals\" by IBM](https://www.coursera.org/), [edX\\'s \"Introduction to Cyber Security\"](https://www.edx.org/).\\n  - Books: *Cybersecurity for Dummies*, *The Basics of Hacking and Penetration Testing* by Patrick Engebretson.\\n\\n---\\n\\n### **2. Foundational Certifications**\\n- **CompTIA Security+**:\\n  - Entry-level certification covering core concepts (risk management, network security, cryptography, compliance).\\n  - Study with CompTIA\\'s official guide, online courses (Udemy, Pluralsight), and practice exams.\\n  \\n- **Next Steps**: \\n  - Follow CompTIA Security+ with CompTIA Network+ to understand networking fundamentals.\\n\\n---\\n\\n### **3. Technical Skills Development**\\n- **Learn Technical Tools & Technologies**:\\n  - **Networking**: TCP/IP, OSI model, Wireshark for packet analysis, configuring firewalls (iptables, Cisco ASA basics).\\n  - **Operating Systems**: Linux (Ubuntu, Kali Linux for penetration testing), basic command-line skills, and understanding Windows security.\\n  - **Programming**: Python (scripting for automation, vulnerability scanning), SQL for database security.\\n  - **Tools**: \\n    - Nmap for network scanning.\\n    - Metasploit for penetration testing.\\n    - Burp Suite for web app testing.\\n    - Wireshark for traffic analysis.\\n\\n- **Practice Environment**:\\n  - Set up a lab using **VirtualBox** or **VMware**.\\n  - Use **Kali Linux** VMs and practice ethical hacking on [TryHackMe](https://tryhackme.com/) or [Hack The Box](https://www.hackthebox.com/).\\n  - Experiment with vulnerable machines (e.g., DVWA, OWASP Juice Shop).\\n\\n---\\n\\n### **4. Hands-On Practice & Challenges**\\n- **CTFs (Capture The Flag)**:\\n  - Start with beginner-friendly platforms like [TryHackMe](https://tryhackme.com/), [OverTheWire](https://overthewire.org/), or [picoCTF](https://picoctf.com/).\\n  - Participate in weekly/monthly CTFs to apply skills.\\n\\n- **Self-Hosted Lab**:\\n  - Set up a local network with vulnerable VMs (e.g., Metasploitable, DVWA).\\n  - Practice vulnerability scanning, exploitation, and post-exploitation techniques.\\n\\n---\\n\\n### **5. Deepen Knowledge Through Specializations**\\n- **Choose a Focus Area**:\\n  - **Penetration Testing/Ethical Hacking**: \\n    - Certifications: **CEH (Certified Ethical Hacker)** or **OSCP (Offensive Security Certified Professional)**.\\n    - Hands-on courses: [Offensive Security Web Exploitation](https://www.offensive-security.com/).\\n  - **Network Security**: \\n    - Certifications: CCNA Cyber Ops, CEH.\\n  - **Cloud Security**: \\n    - AWS Certified Security Specialty, Azure Security Engineer Associate.\\n\\n---\\n\\n### **6. Advanced Certifications**\\n- **Intermediate/Advanced Certifications**:\\n  - **CEH (Certified Ethical Hacker)**: Focuses on penetration testing methodologies.\\n  - **OSCP (OSCP)**: Hands-on exam (requires practical lab work).\\n  - **GIAC certifications** (e.g., GSEC, GWAPT).\\n  \\n- **Advanced Concepts**:\\n  - Incident response (NIST Framework, ISO 27001).\\n  - Compliance standards (GDPR, HIPAA, PCI-DSS).\\n\\n---\\n\\n### **7. Community & Networking**\\n- **Join Communities**:\\n  - **Forums**: Reddit (r/netsec, r/penetrationtesting), Stack Exchange (InfoSec).\\n  - **Discord/Slack Groups**: Join groups like *CyberHunters* or *TryHackMe’s community*.\\n  - **Twitter/X**: Follow experts like @MalwareTech, @ErrataSec, and platforms like *The Hacker News*.\\n\\n- **Stay Updated**:\\n  - Follow newsletters: *Threatpost*, *Dark Reading*, *CVE notifications*.\\n  - Read case studies of real-world breaches (e.g., Equifax, Colonial Pipeline).\\n\\n---\\n\\n### **8. Career Preparation**\\n- **Entry-Level Roles**:\\n  - IT Support Specialist, Security Analyst, Cybersecurity Technician.\\n  - Apply for internships or entry-level positions to gain practical experience.\\n\\n- **Soft Skills**:\\n  - Improve problem-solving, communication, and report-writing skills.\\n  - Learn to document findings (e.g., vulnerability reports, incident response plans).\\n\\n---\\n\\n### **9. Long-Term Goals**\\n- **Advanced Roles**:\\n  - Penetration Tester, Red Teamer, Security Architect, CISO (Chief Information Security Officer).\\n  \\n- **Advanced Certifications**:\\n  - CISSP (Certified Information Systems Security Professional) for managerial roles.\\n  - OSCP, OSCE for deep technical skills.\\n\\n---\\n\\n### **10. Continuous Learning**\\n- **Stay Curious**:\\n  - Follow emerging threats (AI in cybersecurity, IoT security, zero-trust models).\\n  - Explore advanced areas like forensics, reverse engineering, or cloud security.\\n\\n---\\n\\n### **Key Resources**\\n- **Courses**:\\n  - *Cybrary* (free cybersecurity courses).\\n  - *SANS Institute* (paid courses on advanced topics).\\n- **Books**:\\n  - *The Web Application Hacker’s Handbook* for web app security.\\n  - *Hacking Exposed* for real-world attack scenarios.\\n- **Practice Platforms**:\\n  - *Hack The Box*, *TryHackMe*, *OverTheWire*.\\n\\n---\\n\\n### **Sample 1-Year Learning Path**\\n- **Months 1–2**: CompTIA Security+ preparation.\\n- **Months 3–4**: Hands-on lab setup and basic penetration testing.\\n- **Months 5–6**: CTFs and network security fundamentals.\\n- **Months 7–12**: Pursue CEH or OSCP, focus on specialization.\\n\\n---\\n\\n### **Mindset Tips**\\n- **Be Patient**: Cybersecurity requires patience; concepts build incrementally.\\n- **Ethics First**: Always ensure you have permission before testing systems.\\n- **Stay Curious**: Follow news, blogs, and engage with the community.\\n\\nYou’re off to a great start! Focused learning, hands-on practice, and community involvement will help you grow steadily. Let me know if you need help narrowing down courses or tools! 🚀\\n\\n### **Quick Starter Kit**\\n- **Start Now**:\\n  1. Enroll in a free CompTIA Security+ prep course on Cybrary.\\n  2. Install VirtualBox and download Kali Linux.\\n  3. Join TryHackMe for free labs (like their *Vulnerability Scanning* or *Web Exploitation* rooms).\\n\\nLet me know if you want more details on any step! 🔐', additional_kwargs={}, response_metadata={'token_usage': {'completion_tokens': 4334, 'prompt_tokens': 22, 'total_tokens': 4356, 'completion_time': 10.022894703, 'prompt_time': 0.003141836, 'queue_time': 0.272039034, 'total_time': 10.026036539}, 'model_name': 'qwen-qwq-32b', 'system_fingerprint': 'fp_a91d9c2cfb', 'finish_reason': 'stop', 'logprobs': None}, id='run--58b2b641-f2e0-4f4c-bbdb-2a3d5b3b4d8a-0', usage_metadata={'input_tokens': 22, 'output_tokens': 4334, 'total_tokens': 4356})]}}\n"
     ]
    }
   ],
   "source": [
    "## Streaming the responses\n",
    "## stream_mode=\"values\" will return all the responses from the chatbot , \"updates will return the latest message from the chatbot\n",
    "\n",
    "for event in graph_builder.stream({\"messages\": \"Hi Iam Jaya,Iam really interested in Cybersecurity\"},stream_mode=\"updates\"):\n",
    "    print(event)"
   ]
  },
  {
   "cell_type": "code",
   "execution_count": 25,
   "id": "c37d3a1d",
   "metadata": {},
   "outputs": [
    {
     "name": "stdout",
     "output_type": "stream",
     "text": [
      "==================================\u001b[1m Ai Message \u001b[0m==================================\n",
      "Name: LLMmodel\n",
      "\n",
      "Hello\n",
      "================================\u001b[1m Human Message \u001b[0m=================================\n",
      "\n",
      "Hi Iam Jaya,Iam really interested in Cybersecurity\n"
     ]
    }
   ],
   "source": [
    "## Messages are used in the different roles wothin a conversation.Langchain has various messages types including \n",
    "## HumanMessage,AIMessage,SystemMessage and ToolMessage\n",
    "## Every message contains content,name,response_metadata\n",
    "\n",
    "from langchain_core.messages import AIMessage,HumanMessage\n",
    "from pprint import pprint\n",
    "\n",
    "messages = [AIMessage(content=\"Hello\",name=\"LLMmodel\")]\n",
    "messages.append(HumanMessage(content=\"Hi Iam Jaya,Iam really interested in Cybersecurity\"))\n",
    "for message in messages:\n",
    "    message.pretty_print()"
   ]
  },
  {
   "cell_type": "code",
   "execution_count": 26,
   "id": "e4fb6f71",
   "metadata": {},
   "outputs": [],
   "source": [
    "## We can use a sequence of messagess as input with chatmodels using llm and OpenAI\n",
    "from langchain_groq import ChatGroq\n",
    "groq=ChatGroq(model=\"qwen-qwq-32b\")\n",
    "result = groq.invoke(messages)"
   ]
  },
  {
   "cell_type": "code",
   "execution_count": 27,
   "id": "ed7cd48b",
   "metadata": {},
   "outputs": [
    {
     "data": {
      "text/plain": [
       "{'token_usage': {'completion_tokens': 830,\n",
       "  'prompt_tokens': 33,\n",
       "  'total_tokens': 863,\n",
       "  'completion_time': 1.923597411,\n",
       "  'prompt_time': 0.003617396,\n",
       "  'queue_time': 0.343067495,\n",
       "  'total_time': 1.927214807},\n",
       " 'model_name': 'qwen-qwq-32b',\n",
       " 'system_fingerprint': 'fp_9faf42d81f',\n",
       " 'finish_reason': 'stop',\n",
       " 'logprobs': None}"
      ]
     },
     "execution_count": 27,
     "metadata": {},
     "output_type": "execute_result"
    }
   ],
   "source": [
    "result.response_metadata"
   ]
  },
  {
   "cell_type": "code",
   "execution_count": 28,
   "id": "24ff0ddd",
   "metadata": {},
   "outputs": [
    {
     "name": "stdout",
     "output_type": "stream",
     "text": [
      "\n",
      "<think>\n",
      "Okay, let's see. The user is Jaya, and she mentioned she's really interested in Cybersecurity. I need to respond in a friendly and helpful way. First, I should acknowledge her interest. Maybe start with a greeting and a positive response.\n",
      "\n",
      "Hmm, what does someone new to Cybersecurity need to know? She might be looking for entry points into the field. I should suggest some foundational topics. Maybe mention key areas like networking, cryptography, and ethical hacking. Also, certifications could be important. Certifications like CompTIA Security+, CEH, or CISSP come to mind. But wait, CISSP requires experience, so maybe mention that it's for more advanced stages.\n",
      "\n",
      "She might also benefit from practical skills. Recommending learning about Linux, scripting, and tools like Wireshark or Burp Suite. Hands-on experience is crucial, so maybe suggest platforms like TryHackMe or hacking villages. Oh, and staying updated with the latest threats and reading resources like Krebs on Security or Dark Reading.\n",
      "\n",
      "I should also ask if she's looking for more details on any specific area. Keeping the tone encouraging and open-ended. Let me structure this step by step without being too overwhelming. Make sure the advice is actionable and not too jargon-heavy. Alright, putting it all together now.\n",
      "</think>\n",
      "\n",
      "Hi Jaya! Welcome to the world of cybersecurity—it’s an exciting and impactful field! 👋 Here’s a quick roadmap to get started:\n",
      "\n",
      "### **1. Foundational Knowledge**\n",
      "- **Learn the Basics**: Understand core concepts like:  \n",
      "  - Networking (TCP/IP, OSI model, firewalls).  \n",
      "  - Cryptography (encryption, hashing, certificates).  \n",
      "  - Common vulnerabilities (SQL injection, phishing, malware).  \n",
      "  - Cybersecurity frameworks (NIST, ISO 27001).  \n",
      "\n",
      "### **2. Build Technical Skills**\n",
      "- **Operating Systems & Tools**:  \n",
      "  - Learn Linux (command line, file systems).  \n",
      "  - Use tools like Wireshark (network analysis), Burp Suite (web app testing), or Kali Linux (penetration testing).  \n",
      "- **Programming**: Start with Python for scripting (e.g., automating security tasks) or PowerShell for system management.  \n",
      "\n",
      "### **3. Get Certified**  \n",
      "- **Beginner**: [CompTIA Security+](https://www.comptia.org/certifications/security) (great for foundational knowledge).  \n",
      "- **Intermediate**: [CEH (Certified Ethical Hacker)](https://www.eccouncil.org/what-we-offer/certified-ethical-hacker/) for hands-on hacking skills.  \n",
      "- **Advanced**: CISSP (Certified Information Systems Security Professional) for management and strategy.  \n",
      "\n",
      "### **4. Hands-On Practice**  \n",
      "- Try **CTFs (Capture The Flag competitions)** on platforms like [TryHackMe](https://tryhackme.com/) or [Hack The Box](https://www.hackthebox.com/).  \n",
      "- Set up a lab (using virtual machines) to practice penetration testing.  \n",
      "\n",
      "### **5. Stay Updated**  \n",
      "- Follow cybersecurity blogs/newsletters:  \n",
      "  - Krebs on Security  \n",
      "  - Dark Reading  \n",
      "  - The Hacker News  \n",
      "  - NIST vulnerability notices.  \n",
      "\n",
      "### **6. Network & Community**  \n",
      "- Join online communities:  \n",
      "  - Reddit’s r/netsec or r/penetrationtesting.  \n",
      "  - Cybersecurity Discord/Slack groups.  \n",
      "\n",
      "### **7. Explore Specializations**  \n",
      "- Areas like:  \n",
      "  - Incident Response  \n",
      "  - Penetration Testing  \n",
      "  - Cloud Security (AWS/Azure security certs)  \n",
      "  - Cyber Law/Ethics  \n",
      "\n",
      "### **Need More?**  \n",
      "Let me know if you want details on specific areas, tools, or study paths! What part of cybersecurity excites you the most? 🔒  \n",
      "\n",
      "---  \n",
      "*Pro Tip*: Start small—focus on one area (e.g., web security, network security) and dive deep. Practice, fail, learn, repeat! 😊*\n"
     ]
    }
   ],
   "source": [
    "print(result.content) #result.content"
   ]
  },
  {
   "cell_type": "markdown",
   "id": "82c22d79",
   "metadata": {},
   "source": [
    "## Router\n",
    "Chat model routes the flow between the direct response or a tool call based upon the user input\n"
   ]
  },
  {
   "cell_type": "code",
   "execution_count": 29,
   "id": "092af01c",
   "metadata": {},
   "outputs": [],
   "source": [
    "## Simple flow that redirects to a custom tool for the add operation\n",
    "def add(a: int, b: int) -> int:\n",
    "    \"\"\" Add a and b\n",
    "    Args:\n",
    "        a: int\n",
    "        b: int\n",
    "    Return:\n",
    "        int\n",
    "    \"\"\"\n",
    "    return a + b"
   ]
  },
  {
   "cell_type": "code",
   "execution_count": 30,
   "id": "b985c025",
   "metadata": {},
   "outputs": [],
   "source": [
    "groq_with_add =groq.bind_tools([add])"
   ]
  },
  {
   "cell_type": "code",
   "execution_count": 31,
   "id": "72642439",
   "metadata": {},
   "outputs": [
    {
     "data": {
      "text/plain": [
       "AIMessage(content='', additional_kwargs={'tool_calls': [{'id': 'call_dab4', 'function': {'arguments': '{\"a\":3,\"b\":2}', 'name': 'add'}, 'type': 'function'}]}, response_metadata={'token_usage': {'completion_tokens': 155, 'prompt_tokens': 183, 'total_tokens': 338, 'completion_time': 0.357785721, 'prompt_time': 0.018971862, 'queue_time': 0.406211758, 'total_time': 0.376757583}, 'model_name': 'qwen-qwq-32b', 'system_fingerprint': 'fp_9faf42d81f', 'finish_reason': 'tool_calls', 'logprobs': None}, id='run--438fa5e4-97bc-4ab7-8722-13986ff090eb-0', tool_calls=[{'name': 'add', 'args': {'a': 3, 'b': 2}, 'id': 'call_dab4', 'type': 'tool_call'}], usage_metadata={'input_tokens': 183, 'output_tokens': 155, 'total_tokens': 338})"
      ]
     },
     "execution_count": 31,
     "metadata": {},
     "output_type": "execute_result"
    }
   ],
   "source": [
    "from langchain_core.messages import HumanMessage\n",
    "groq_with_add.invoke([HumanMessage(content=\"What is 3 + 2\")])"
   ]
  },
  {
   "cell_type": "code",
   "execution_count": 32,
   "id": "00e0e11b",
   "metadata": {},
   "outputs": [],
   "source": [
    "from typing_extensions import TypedDict\n",
    "from langchain_core.messages import AnyMessage\n",
    "from langgraph.graph.message import add_messages\n",
    "from typing import Annotated\n",
    "class State(TypedDict):\n",
    "    messages: Annotated[list[AnyMessage], add_messages]\n",
    "    name: str\n",
    "    "
   ]
  },
  {
   "cell_type": "code",
   "execution_count": 34,
   "id": "9c21b563",
   "metadata": {},
   "outputs": [
    {
     "data": {
      "text/plain": [
       "{'messages': [HumanMessage(content='Hello', additional_kwargs={}, response_metadata={}, name='LLMmodel', id='60958b28-5b71-4024-bafb-481424db63a1'),\n",
       "  AIMessage(content='\\n<think>\\nOkay, the user said \"Hello\". I need to respond in a friendly and welcoming way. Let me think of a common greeting. Maybe \"Hello! How can I assist you today?\" That\\'s good because it\\'s polite and opens the conversation for them to explain what they need. I should make sure not to overcomplicate it. Keep it simple and approachable. Yeah, that should work.\\n</think>\\n\\nHello! How can I assist you today?', additional_kwargs={}, response_metadata={'token_usage': {'completion_tokens': 93, 'prompt_tokens': 11, 'total_tokens': 104, 'completion_time': 0.226390088, 'prompt_time': 0.002881358, 'queue_time': 0.246859118, 'total_time': 0.229271446}, 'model_name': 'qwen-qwq-32b', 'system_fingerprint': 'fp_512a3da6bb', 'finish_reason': 'stop', 'logprobs': None}, id='run--8553b0e0-2c0e-4ec1-83c7-d9c0df54ba15-0', usage_metadata={'input_tokens': 11, 'output_tokens': 93, 'total_tokens': 104})]}"
      ]
     },
     "execution_count": 34,
     "metadata": {},
     "output_type": "execute_result"
    }
   ],
   "source": [
    "#### Reducer with add_messages\n",
    "\n",
    "initial_messages = [HumanMessage(content=\"Hello\",name=\"LLMmodel\")]\n",
    "graph = StateGraph(State)\n",
    "graph.add_node(\n",
    "    \"chatbot\",\n",
    "    chatbot\n",
    ")\n",
    "\n",
    "graph.add_edge(START,\"chatbot\")\n",
    "graph.add_edge(\"chatbot\",END)\n",
    "\n",
    "graph_builder = graph.compile()\n",
    "graph_builder.invoke({\"messages\": initial_messages})"
   ]
  },
  {
   "cell_type": "code",
   "execution_count": 35,
   "id": "2240aa88",
   "metadata": {},
   "outputs": [],
   "source": [
    "def llm_with_add(state: State):\n",
    "    return {\"messages\": [groq_with_add.invoke(state[\"messages\"])]}"
   ]
  },
  {
   "cell_type": "code",
   "execution_count": 37,
   "id": "fd3aee4d",
   "metadata": {},
   "outputs": [
    {
     "data": {
      "image/png": "[encoded data removed]",
      "text/plain": [
       "<IPython.core.display.Image object>"
      ]
     },
     "metadata": {},
     "output_type": "display_data"
    }
   ],
   "source": [
    "from IPython.display import Image\n",
    "graph = StateGraph(State)\n",
    "graph.add_node(\n",
    "    \"chatbot\",\n",
    "    llm_with_add\n",
    ")\n",
    "\n",
    "graph.add_edge(START,\"chatbot\")\n",
    "graph.add_edge(\"chatbot\",END)\n",
    "\n",
    "graph_builder = graph.compile()\n",
    "display(Image(graph_builder.get_graph().draw_mermaid_png()))\n"
   ]
  },
  {
   "cell_type": "code",
   "execution_count": 41,
   "id": "a6637d42",
   "metadata": {},
   "outputs": [],
   "source": [
    "messages=graph_builder.invoke({\"messages\": \"Add 23 and twenty\"})"
   ]
  },
  {
   "cell_type": "code",
   "execution_count": 42,
   "id": "9bbdb600",
   "metadata": {},
   "outputs": [
    {
     "name": "stdout",
     "output_type": "stream",
     "text": [
      "================================\u001b[1m Human Message \u001b[0m=================================\n",
      "\n",
      "Add 23 and twenty\n",
      "==================================\u001b[1m Ai Message \u001b[0m==================================\n",
      "Tool Calls:\n",
      "  add (call_2980)\n",
      " Call ID: call_2980\n",
      "  Args:\n",
      "    a: 23\n",
      "    b: 20\n"
     ]
    }
   ],
   "source": [
    "for message in messages[\"messages\"]:\n",
    "    message.pretty_print()"
   ]
  },
  {
   "cell_type": "code",
   "execution_count": 47,
   "id": "c7ec0bf6",
   "metadata": {},
   "outputs": [
    {
     "data": {
      "image/png": "[encoded data removed]",
      "text/plain": [
       "<IPython.core.display.Image object>"
      ]
     },
     "metadata": {},
     "output_type": "display_data"
    }
   ],
   "source": [
    "from langgraph.prebuilt import ToolNode\n",
    "from langgraph.prebuilt import tools_condition\n",
    "\n",
    "tools = [add]\n",
    "graph = StateGraph(State)\n",
    "graph.add_node(\n",
    "    \"chatbot\",\n",
    "    llm_with_add)\n",
    "\n",
    "graph.add_node(\n",
    "    \"tools\",\n",
    "    ToolNode(tools)\n",
    ")\n",
    "\n",
    "graph.add_edge(START,\"chatbot\")\n",
    "graph.add_conditional_edges(\"chatbot\",tools_condition)\n",
    "graph.add_edge(\"tools\",END)\n",
    "\n",
    "graph_builder = graph.compile()\n",
    "display(Image(graph_builder.get_graph().draw_mermaid_png()))\n",
    " "
   ]
  },
  {
   "cell_type": "code",
   "execution_count": 50,
   "id": "6e3ab82b",
   "metadata": {},
   "outputs": [
    {
     "name": "stdout",
     "output_type": "stream",
     "text": [
      "================================\u001b[1m Human Message \u001b[0m=================================\n",
      "\n",
      "Add 23 and twenty\n",
      "==================================\u001b[1m Ai Message \u001b[0m==================================\n",
      "Tool Calls:\n",
      "  add (call_3jyk)\n",
      " Call ID: call_3jyk\n",
      "  Args:\n",
      "    a: 23\n",
      "    b: 20\n",
      "=================================\u001b[1m Tool Message \u001b[0m=================================\n",
      "Name: add\n",
      "\n",
      "43\n"
     ]
    }
   ],
   "source": [
    "messages =graph_builder.invoke({\"messages\": \"Add 23 and twenty\"})\n",
    "\n",
    "for message in messages[\"messages\"]:\n",
    "    message.pretty_print()"
   ]
  }
 ],
 "metadata": {
  "kernelspec": {
   "display_name": "Python 3",
   "language": "python",
   "name": "python3"
  },
  "language_info": {
   "codemirror_mode": {
    "name": "ipython",
    "version": 3
   },
   "file_extension": ".py",
   "mimetype": "text/x-python",
   "name": "python",
   "nbconvert_exporter": "python",
   "pygments_lexer": "ipython3",
   "version": "3.12.0"
  }
 },
 "nbformat": 4,
 "nbformat_minor": 5
}
