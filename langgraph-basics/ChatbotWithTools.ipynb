{
 "cells": [
  {
   "cell_type": "code",
   "execution_count": 60,
   "id": "96e2c106",
   "metadata": {},
   "outputs": [],
   "source": [
    "from langchain_community.tools import ArxivQueryRun,WikipediaQueryRun\n",
    "from langchain_community.utilities import WikipediaAPIWrapper,ArxivAPIWrapper"
   ]
  },
  {
   "cell_type": "code",
   "execution_count": 61,
   "id": "4258db11",
   "metadata": {},
   "outputs": [],
   "source": [
    "def add(a: int, b: int) -> int:\n",
    "    ''' Add a and b\n",
    "    Args:\n",
    "        a: int\n",
    "        b: int\n",
    "    Return:\n",
    "        int\n",
    "    '''\n",
    "    return a + b"
   ]
  },
  {
   "cell_type": "code",
   "execution_count": 62,
   "id": "521f6a1f",
   "metadata": {},
   "outputs": [
    {
     "data": {
      "text/plain": [
       "43"
      ]
     },
     "execution_count": 62,
     "metadata": {},
     "output_type": "execute_result"
    }
   ],
   "source": [
    "add(23,20)"
   ]
  },
  {
   "cell_type": "code",
   "execution_count": 63,
   "id": "65fbdd99",
   "metadata": {},
   "outputs": [
    {
     "name": "stdout",
     "output_type": "stream",
     "text": [
      "arxiv\n"
     ]
    }
   ],
   "source": [
    "api_wrapper_arxiv=ArxivAPIWrapper(top_k_results=2,doc_content_chars_max=500)\n",
    "arxiv=ArxivQueryRun(api_wrapper=api_wrapper_arxiv)\n",
    "print(arxiv.name)"
   ]
  },
  {
   "cell_type": "code",
   "execution_count": 64,
   "id": "1e443600",
   "metadata": {},
   "outputs": [
    {
     "data": {
      "text/plain": [
       "'Published: 2024-12-04\\nTitle: When LLMs Meet Cybersecurity: A Systematic Literature Review\\nAuthors: Jie Zhang, Haoyu Bu, Hui Wen, Yongji Liu, Haiqiang Fei, Rongrong Xi, Lun Li, Yun Yang, Hongsong Zhu, Dan Meng\\nSummary: The rapid development of large language models (LLMs) has opened new avenues\\nacross various fields, including cybersecurity, which faces an evolving threat\\nlandscape and demand for innovative technologies. Despite initial explorations\\ninto the application of LLMs in cybersecurity, '"
      ]
     },
     "execution_count": 64,
     "metadata": {},
     "output_type": "execute_result"
    }
   ],
   "source": [
    "arxiv.invoke(\"LLM for cybersecurity\")"
   ]
  },
  {
   "cell_type": "code",
   "execution_count": 65,
   "id": "9cb0647c",
   "metadata": {},
   "outputs": [
    {
     "data": {
      "text/plain": [
       "'wikipedia'"
      ]
     },
     "execution_count": 65,
     "metadata": {},
     "output_type": "execute_result"
    }
   ],
   "source": [
    "api_wrapper_wiki=WikipediaAPIWrapper(top_k_results=1,doc_content_chars_max=500)\n",
    "wiki=WikipediaQueryRun(api_wrapper=api_wrapper_wiki)\n",
    "wiki.name"
   ]
  },
  {
   "cell_type": "code",
   "execution_count": 66,
   "id": "7d7df2fa",
   "metadata": {},
   "outputs": [
    {
     "data": {
      "text/plain": [
       "\"Page: Penetration test\\nSummary: A penetration test, colloquially known as a pentest, is an authorized simulated cyberattack on a computer system, performed to evaluate the security of the system; this is not to be confused with a vulnerability assessment. The test is performed to identify weaknesses (or vulnerabilities), including the potential for unauthorized parties to gain access to the system's features and data, as well as strengths, enabling a full risk assessment to be completed.\\nThe pro\""
      ]
     },
     "execution_count": 66,
     "metadata": {},
     "output_type": "execute_result"
    }
   ],
   "source": [
    "wiki.invoke(\"What is pen testing\")"
   ]
  },
  {
   "cell_type": "code",
   "execution_count": 67,
   "id": "a196e350",
   "metadata": {},
   "outputs": [],
   "source": [
    "from dotenv import load_dotenv\n",
    "load_dotenv()\n",
    "\n",
    "import os\n",
    "os.environ[\"GROQ_API_KEY\"]=os.getenv(\"GROQ_API_KEY\")"
   ]
  },
  {
   "cell_type": "code",
   "execution_count": 68,
   "id": "d4ae8d77",
   "metadata": {},
   "outputs": [],
   "source": [
    "tools=[wiki,arxiv,add]"
   ]
  },
  {
   "cell_type": "code",
   "execution_count": 69,
   "id": "356432b4",
   "metadata": {},
   "outputs": [
    {
     "data": {
      "text/plain": [
       "AIMessage(content='\\n<think>\\nOkay, so the user is asking, \"What is testing?\" Let me start by breaking down what they might be looking for. They could be a beginner in a field like software development, quality assurance, or maybe even education. I should make sure to cover the basics without assuming too much prior knowledge.\\n\\nFirst, I need to define testing in general terms. Testing is the process of evaluating something to determine its quality, functionality, or reliability. But I should specify different contexts because testing can mean different things in different fields.\\n\\nIn software development, testing is crucial. Maybe I should explain that part first since it\\'s a common area where testing is vital. I should mention types like unit testing, integration testing, system testing, and acceptance testing. Also, maybe touch on why it\\'s important—like catching bugs early, ensuring requirements are met, and improving quality.\\n\\nThen there\\'s educational testing, like exams and quizzes. That\\'s another context where testing is used to assess knowledge or skills. Standardized tests like SAT or GRE come to mind here. I should also note that in this context, testing helps in evaluating learning outcomes.\\n\\nIn healthcare, testing can refer to medical diagnostics. Tests like blood tests or imaging help diagnose diseases. That\\'s another important area to mention.\\n\\nI should also talk about the objectives of testing. Key points would include identifying defects, ensuring requirements are met, risk reduction, and providing confidence in the product. Maybe explain each of these points briefly.\\n\\nAdditionally, the process of testing usually involves planning, designing test cases, executing tests, and reporting results. Including that structure could help clarify the steps involved.\\n\\nDifferent types of testing might be worth listing. For example, functional vs. non-functional testing, manual vs. automated, exploratory vs. scripted, etc. But I don\\'t want to get too technical here; maybe just a few examples.\\n\\nAlso, the importance of testing in different industries. Software, education, healthcare, manufacturing... each has its own reasons for testing. Highlighting real-world applications can make the explanation more relatable.\\n\\nWait, should I mention the difference between testing and quality assurance? Maybe not too much, unless it\\'s a point of confusion. But the user just asked for a definition, so maybe stick to the basics.\\n\\nLet me structure this in a way that\\'s easy to follow. Start with a general definition, then break it down by context (software, education, healthcare), objectives, types, and maybe the process. Keep it clear and concise. Avoid jargon unless necessary, and explain terms when used.\\n\\nI should also consider if there are any common misconceptions. Like, testing isn\\'t just about finding bugs; it\\'s also about validation and verification. Maybe clarify that testing is a proactive process to prevent issues, not just reacting to problems after release.\\n\\nHmm, maybe include an example. Like, when you test a new app, you check if all buttons work, data is saved correctly, etc. That could make it more concrete.\\n\\nAlso, in manufacturing, testing products for durability or safety standards is another example. So, emphasizing that testing is widespread across industries.\\n\\nWait, the user might be looking for a simple answer, but to provide a comprehensive overview, covering different areas is better. Let me outline:\\n\\n1. Definition\\n2. Key contexts (software, education, healthcare, manufacturing)\\n3. Objectives of testing\\n4. Testing process\\n5. Types of testing\\n6. Importance and benefits\\n\\nThat structure should cover the bases. Let me make sure each section is brief but informative. Avoid being too technical, but still thorough enough for someone new to the concept.\\n\\nI should also mention that testing is a part of a larger process. In software, it\\'s part of the SDLC. In education, part of the curriculum design. So integrating testing into the bigger picture helps understand its role.\\n\\nIncluding a summary at the end to tie everything together. Alright, I think that\\'s a solid outline. Now, let me put it all together in clear, simple language.\\n</think>\\n\\n**Testing** is a systematic process of evaluating a system, product, or individual to assess its quality, functionality, performance, or knowledge. It is used across various fields to ensure reliability, safety, and compliance with requirements. Here\\'s a structured overview:\\n\\n---\\n\\n### **1. Definition**\\nTesting involves examining an entity (e.g., software, hardware, a person) under controlled conditions to identify defects, validate performance, or measure knowledge. It answers questions like:  \\n- Does it work as intended?  \\n- Is it safe and reliable?  \\n- Does it meet user needs?  \\n\\n---\\n\\n### **2. Key Contexts & Examples**\\n#### **a. Software Development**\\n- **Purpose**: Ensure software works correctly, is secure, and meets user requirements.  \\n- **Common Types**:  \\n  - **Unit Testing**: Checks individual components (e.g., a function).  \\n  - **Integration Testing**: Validates interactions between components.  \\n  - **User Acceptance Testing (UAT)**: Ensures the product meets end-user needs.  \\n  - **Performance Testing**: Tests under load or stress conditions.  \\n- **Outcome**: Reduces bugs, improves user experience, and prevents costly post-release issues.\\n\\n#### **b. Education**\\n- **Purpose**: Assess knowledge, skills, or progress.  \\n- **Examples**: Exams, quizzes, competency certifications (e.g., driving tests, medical licensure).  \\n- **Outcome**: Evaluates learning outcomes and identifies knowledge gaps.\\n\\n#### **c. Healthcare**\\n- **Purpose**: Diagnose medical conditions or measure health metrics.  \\n- **Examples**: Blood tests, imaging scans (X-rays, MRI), and genetic testing.  \\n- **Outcome**: Guides treatment decisions and improves patient care.\\n\\n#### **d. Manufacturing & Engineering**\\n- **Purpose**: Ensure products meet safety, durability, and quality standards.  \\n- **Examples**: Stress tests on materials, quality control inspections.  \\n- **Outcome**: Prevents defects and ensures compliance with regulatory standards.\\n\\n---\\n\\n### **3. Objectives of Testing**\\n- **Identify Defects**: Catch errors or flaws early in the development lifecycle.  \\n- **Validation & Verification**:  \\n  - **Validation**: \"Are we building the right product?\" (e.g., does it meet user needs?).  \\n  - **Verification**: \"Are we building the product right?\" (e.g., does it work as designed?).  \\n- **Risk Reduction**: Minimizes the likelihood of failures in real-world use.  \\n- **Provide Confidence**: Assures stakeholders that the product/system is fit for purpose.\\n\\n---\\n\\n### **4. Testing Process**\\n1. **Planning**: Define scope, objectives, and resources.  \\n2. **Design Test Cases**: Create scenarios (e.g., \"What happens if a user enters invalid input?\").  \\n3. **Execution**: Run tests, track results, and document findings.  \\n4. **Reporting**: Communicate outcomes, defects, and recommendations.  \\n5. **Retesting/Regression**: Verify fixes and ensure new changes haven’t caused new issues.\\n\\n---\\n\\n### **5. Types of Testing**\\n- **Functional Testing**: Checks if features work as expected (e.g., login functionality).  \\n- **Non-Functional Testing**: Evaluates usability, performance, security, scalability.  \\n- **Manual Testing**: Done by humans to simulate real-user interactions.  \\n- **Automated Testing**: Uses tools/scripts for repetitive tasks (e.g., regression tests).  \\n- **Exploratory Testing**: Unstructured, improvised testing to uncover hidden issues.\\n\\n---\\n\\n### **6. Importance & Benefits**\\n- **Cost Efficiency**: Catching issues early saves money and time.  \\n- **Safety Critical**: In aviation or healthcare, testing is vital to prevent harm.  \\n- **Quality Assurance**: Builds trust with users/stakeholders by delivering reliable products.  \\n- **Continuous Improvement**: Feedback from testing helps refine processes and products.\\n\\n---\\n\\n### **7. Summary**\\nTesting is a fundamental activity in almost every field. Whether it’s ensuring a new app doesn’t crash, a student understands a subject, or a medical device is safe, testing helps validate that things work as intended. It’s a proactive measure to reduce risks, improve quality, and make informed decisions based on evidence.  \\n\\nBy systematically applying testing practices, organizations and individuals can enhance reliability, meet standards, and deliver value effectively.', additional_kwargs={}, response_metadata={'token_usage': {'completion_tokens': 1700, 'prompt_tokens': 13, 'total_tokens': 1713, 'completion_time': 4.150128387, 'prompt_time': 0.002877507, 'queue_time': 0.24732280899999998, 'total_time': 4.153005894}, 'model_name': 'qwen-qwq-32b', 'system_fingerprint': 'fp_1e88ca32eb', 'finish_reason': 'stop', 'logprobs': None}, id='run--61756c17-bcc6-44b0-91d2-674f6911f2f4-0', usage_metadata={'input_tokens': 13, 'output_tokens': 1700, 'total_tokens': 1713})"
      ]
     },
     "execution_count": 69,
     "metadata": {},
     "output_type": "execute_result"
    }
   ],
   "source": [
    "from langchain_groq import ChatGroq\n",
    "groq=ChatGroq(model=\"qwen-qwq-32b\")\n",
    "groq.invoke(\"What is testing\")"
   ]
  },
  {
   "cell_type": "code",
   "execution_count": 70,
   "id": "c9547ff3",
   "metadata": {},
   "outputs": [
    {
     "data": {
      "text/plain": [
       "AIMessage(content='', additional_kwargs={'tool_calls': [{'id': 'call_tgr5', 'function': {'arguments': '{\"query\":\"Cybersecurity\"}', 'name': 'wikipedia'}, 'type': 'function'}, {'id': 'call_ffzb', 'function': {'arguments': '{\"query\":\"cybersecurity\"}', 'name': 'arxiv'}, 'type': 'function'}]}, response_metadata={'token_usage': {'completion_tokens': 230, 'prompt_tokens': 389, 'total_tokens': 619, 'completion_time': 0.564875737, 'prompt_time': 0.02140985, 'queue_time': 0.250239184, 'total_time': 0.586285587}, 'model_name': 'qwen-qwq-32b', 'system_fingerprint': 'fp_1e88ca32eb', 'finish_reason': 'tool_calls', 'logprobs': None}, id='run--f4f223da-945b-478b-a2c0-6ed110f7c2dd-0', tool_calls=[{'name': 'wikipedia', 'args': {'query': 'Cybersecurity'}, 'id': 'call_tgr5', 'type': 'tool_call'}, {'name': 'arxiv', 'args': {'query': 'cybersecurity'}, 'id': 'call_ffzb', 'type': 'tool_call'}], usage_metadata={'input_tokens': 389, 'output_tokens': 230, 'total_tokens': 619})"
      ]
     },
     "execution_count": 70,
     "metadata": {},
     "output_type": "execute_result"
    }
   ],
   "source": [
    "llm_with_tools = groq.bind_tools(tools)\n",
    "llm_with_tools.invoke(\"Reaserch on cybersecurity\")"
   ]
  },
  {
   "cell_type": "code",
   "execution_count": 71,
   "id": "4717261b",
   "metadata": {},
   "outputs": [],
   "source": [
    "from typing_extensions import TypedDict\n",
    "from langchain_core.messages import AnyMessage\n",
    "from typing import Annotated\n",
    "from langgraph.graph.message import add_messages\n",
    "class State(TypedDict):\n",
    "    messages:Annotated[list[AnyMessage],add_messages]"
   ]
  },
  {
   "cell_type": "code",
   "execution_count": 72,
   "id": "1d5ce491",
   "metadata": {},
   "outputs": [],
   "source": [
    "def chatbot(state: State):\n",
    "    return {\"messages\":llm_with_tools.invoke(state[\"messages\"])}"
   ]
  },
  {
   "cell_type": "code",
   "execution_count": 73,
   "id": "cd3c0762",
   "metadata": {},
   "outputs": [
    {
     "data": {
      "image/png": "[encoded data removed]",
      "text/plain": [
       "<IPython.core.display.Image object>"
      ]
     },
     "metadata": {},
     "output_type": "display_data"
    }
   ],
   "source": [
    "from IPython.display import Image\n",
    "from langgraph.graph import StateGraph,START,END\n",
    "from langgraph.prebuilt import ToolNode\n",
    "from langgraph.prebuilt import tools_condition\n",
    "from langchain_core.messages import HumanMessage\n",
    "\n",
    "graph = StateGraph(State)\n",
    "graph.add_node(\n",
    "    \"chatbot\",\n",
    "    chatbot\n",
    ")\n",
    "graph.add_node(\n",
    "    \"tools\",\n",
    "    ToolNode(tools)\n",
    ")\n",
    "\n",
    "graph.add_edge(START,\"chatbot\")\n",
    "graph.add_conditional_edges(\"chatbot\",tools_condition)\n",
    "graph_builder = graph.compile()\n",
    "display(Image(graph_builder.get_graph().draw_mermaid_png()))"
   ]
  },
  {
   "cell_type": "code",
   "execution_count": 74,
   "id": "f152f194",
   "metadata": {},
   "outputs": [],
   "source": [
    "messages=graph_builder.invoke({\"messages\":HumanMessage(content=\"What is your opinion on automaing cybersecurity\")})"
   ]
  },
  {
   "cell_type": "code",
   "execution_count": 75,
   "id": "53fe6fcf",
   "metadata": {},
   "outputs": [
    {
     "name": "stdout",
     "output_type": "stream",
     "text": [
      "================================\u001b[1m Human Message \u001b[0m=================================\n",
      "\n",
      "What is your opinion on automaing cybersecurity\n",
      "==================================\u001b[1m Ai Message \u001b[0m==================================\n",
      "Tool Calls:\n",
      "  wikipedia (call_8m1e)\n",
      " Call ID: call_8m1e\n",
      "  Args:\n",
      "    query: Automated cybersecurity\n",
      "  arxiv (call_vc9r)\n",
      " Call ID: call_vc9r\n",
      "  Args:\n",
      "    query: automating cybersecurity systems AI machine learning\n",
      "=================================\u001b[1m Tool Message \u001b[0m=================================\n",
      "Name: wikipedia\n",
      "\n",
      "Page: Pentera\n",
      "Summary: Pentera is an American cybersecurity software company, specializing in automated security validation solutions. Originally founded as Pcysys in 2015, the company later rebranded as Pentera in 2021. The company is led by Amitai Ratzon (CEO) and Dr. Arik Liberzon (founder and CTO). Pentera has entities in the US, Germany, UK, Israel, Dubai, and Singapore.\n",
      "=================================\u001b[1m Tool Message \u001b[0m=================================\n",
      "Name: arxiv\n",
      "\n",
      "Published: 2020-09-21\n",
      "Title: AI assisted Malware Analysis: A Course for Next Generation Cybersecurity Workforce\n",
      "Authors: Maanak Gupta, Sudip Mittal, Mahmoud Abdelsalam\n",
      "Summary: The use of Artificial Intelligence (AI) and Machine Learning (ML) to solve\n",
      "cybersecurity problems has been gaining traction within industry and academia,\n",
      "in part as a response to widespread malware attacks on critical systems, such\n",
      "as cloud infrastructures, government offices or hospitals, and the vast amounts\n",
      "of data the\n"
     ]
    }
   ],
   "source": [
    "from pprint import pprint\n",
    "for message in messages[\"messages\"]:\n",
    "    message.pretty_print()"
   ]
  },
  {
   "cell_type": "markdown",
   "id": "81f9a874",
   "metadata": {},
   "source": [
    "## ReAct Agent Archicture\n",
    "ReAct stands for Reasoning and Acting.\n",
    "It allows LLMs to:\n",
    "\n",
    "Reason through a problem step-by-step (like Chain-of-Thought).\n",
    "\n",
    "Act by interacting with tools (e.g., a calculator, search engine, API) when needed.\n",
    "\n",
    "Observe the result of those actions.\n",
    "\n",
    "Continue reasoning or acting based on observations.\n"
   ]
  },
  {
   "cell_type": "code",
   "execution_count": 76,
   "id": "07ca00eb",
   "metadata": {},
   "outputs": [
    {
     "data": {
      "image/png": "[encoded data removed]",
      "text/plain": [
       "<IPython.core.display.Image object>"
      ]
     },
     "metadata": {},
     "output_type": "display_data"
    }
   ],
   "source": [
    "react = StateGraph(State)\n",
    "react.add_node(\n",
    "    \"chatbot\",\n",
    "    chatbot\n",
    ")\n",
    "\n",
    "react.add_node(\n",
    "    \"tools\",\n",
    "    ToolNode(tools)\n",
    ")\n",
    "\n",
    "react.add_edge(START,\"chatbot\")\n",
    "react.add_conditional_edges(\"chatbot\",tools_condition)\n",
    "react.add_edge(\"tools\",\"chatbot\")\n",
    "react_builder = react.compile()\n",
    "display(Image(react_builder.get_graph().draw_mermaid_png()))"
   ]
  },
  {
   "cell_type": "code",
   "execution_count": 79,
   "id": "fc5242fa",
   "metadata": {},
   "outputs": [
    {
     "name": "stdout",
     "output_type": "stream",
     "text": [
      "================================\u001b[1m Human Message \u001b[0m=================================\n",
      "\n",
      "what is the values of the addition of 60 and 40\n",
      "==================================\u001b[1m Ai Message \u001b[0m==================================\n",
      "Tool Calls:\n",
      "  add (call_8whx)\n",
      " Call ID: call_8whx\n",
      "  Args:\n",
      "    a: 60\n",
      "    b: 40\n",
      "=================================\u001b[1m Tool Message \u001b[0m=================================\n",
      "Name: add\n",
      "\n",
      "100\n",
      "==================================\u001b[1m Ai Message \u001b[0m==================================\n",
      "\n",
      "The result of adding 60 and 40 is **100**.\n"
     ]
    }
   ],
   "source": [
    "react_messages=react_builder.invoke({\"messages\":HumanMessage(content=\"what is the values of the addition of 60 and 40\")})\n",
    "for message in react_messages[\"messages\"]:\n",
    "    message.pretty_print()"
   ]
  }
 ],
 "metadata": {
  "kernelspec": {
   "display_name": "Python 3",
   "language": "python",
   "name": "python3"
  },
  "language_info": {
   "codemirror_mode": {
    "name": "ipython",
    "version": 3
   },
   "file_extension": ".py",
   "mimetype": "text/x-python",
   "name": "python",
   "nbconvert_exporter": "python",
   "pygments_lexer": "ipython3",
   "version": "3.12.0"
  }
 },
 "nbformat": 4,
 "nbformat_minor": 5
}
