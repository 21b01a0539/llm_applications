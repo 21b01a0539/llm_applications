{
 "cells": [
  {
   "cell_type": "code",
   "execution_count": 1,
   "id": "96e2c106",
   "metadata": {},
   "outputs": [],
   "source": [
    "from langchain_community.tools import ArxivQueryRun,WikipediaQueryRun\n",
    "from langchain_community.utilities import WikipediaAPIWrapper,ArxivAPIWrapper"
   ]
  },
  {
   "cell_type": "code",
   "execution_count": 3,
   "id": "65fbdd99",
   "metadata": {},
   "outputs": [
    {
     "name": "stdout",
     "output_type": "stream",
     "text": [
      "arxiv\n"
     ]
    }
   ],
   "source": [
    "api_wrapper_arxiv=ArxivAPIWrapper(top_k_results=2,doc_content_chars_max=500)\n",
    "arxiv=ArxivQueryRun(api_wrapper=api_wrapper_arxiv)\n",
    "print(arxiv.name)"
   ]
  },
  {
   "cell_type": "code",
   "execution_count": 4,
   "id": "1e443600",
   "metadata": {},
   "outputs": [
    {
     "data": {
      "text/plain": [
       "'Published: 2024-12-04\\nTitle: When LLMs Meet Cybersecurity: A Systematic Literature Review\\nAuthors: Jie Zhang, Haoyu Bu, Hui Wen, Yongji Liu, Haiqiang Fei, Rongrong Xi, Lun Li, Yun Yang, Hongsong Zhu, Dan Meng\\nSummary: The rapid development of large language models (LLMs) has opened new avenues\\nacross various fields, including cybersecurity, which faces an evolving threat\\nlandscape and demand for innovative technologies. Despite initial explorations\\ninto the application of LLMs in cybersecurity, '"
      ]
     },
     "execution_count": 4,
     "metadata": {},
     "output_type": "execute_result"
    }
   ],
   "source": [
    "arxiv.invoke(\"LLM for cybersecurity\")"
   ]
  },
  {
   "cell_type": "code",
   "execution_count": 5,
   "id": "9cb0647c",
   "metadata": {},
   "outputs": [
    {
     "data": {
      "text/plain": [
       "'wikipedia'"
      ]
     },
     "execution_count": 5,
     "metadata": {},
     "output_type": "execute_result"
    }
   ],
   "source": [
    "api_wrapper_wiki=WikipediaAPIWrapper(top_k_results=1,doc_content_chars_max=500)\n",
    "wiki=WikipediaQueryRun(api_wrapper=api_wrapper_wiki)\n",
    "wiki.name"
   ]
  },
  {
   "cell_type": "code",
   "execution_count": 7,
   "id": "7d7df2fa",
   "metadata": {},
   "outputs": [
    {
     "data": {
      "text/plain": [
       "\"Page: Penetration test\\nSummary: A penetration test, colloquially known as a pentest, is an authorized simulated cyberattack on a computer system, performed to evaluate the security of the system; this is not to be confused with a vulnerability assessment. The test is performed to identify weaknesses (or vulnerabilities), including the potential for unauthorized parties to gain access to the system's features and data, as well as strengths, enabling a full risk assessment to be completed.\\nThe pro\""
      ]
     },
     "execution_count": 7,
     "metadata": {},
     "output_type": "execute_result"
    }
   ],
   "source": [
    "wiki.invoke(\"What is pen testing\")"
   ]
  },
  {
   "cell_type": "code",
   "execution_count": 8,
   "id": "a196e350",
   "metadata": {},
   "outputs": [],
   "source": [
    "from dotenv import load_dotenv\n",
    "load_dotenv()\n",
    "\n",
    "import os\n",
    "os.environ[\"GROQ_API_KEY\"]=os.getenv(\"GROQ_API_KEY\")"
   ]
  },
  {
   "cell_type": "code",
   "execution_count": 9,
   "id": "d4ae8d77",
   "metadata": {},
   "outputs": [],
   "source": [
    "tools=[wiki,arxiv]"
   ]
  },
  {
   "cell_type": "code",
   "execution_count": 13,
   "id": "356432b4",
   "metadata": {},
   "outputs": [
    {
     "data": {
      "text/plain": [
       "AIMessage(content='\\n<think>\\nOkay, so I need to explain what testing is. Hmm, where do I start? Well, testing is a pretty broad term, right? Maybe I should break it down into different contexts because testing can mean different things depending on the field. Let\\'s see, there\\'s software testing, medical testing, educational testing... Maybe I should start by defining testing in general terms and then go into specific areas.\\n\\nFirst, the general definition of testing. Testing is a process of evaluating something to determine its characteristics, performance, or quality. It\\'s used to check if something meets certain criteria or standards. That makes sense. But I should make sure to mention that it\\'s a systematic process.\\n\\nNow, thinking about software testing. That\\'s a big area. In software development, testing is crucial to ensure that the software works as intended. There are different types like unit testing, integration testing, system testing, and user acceptance testing. Each has its own purpose. Unit testing checks individual components, integration testing checks how different parts work together, system testing looks at the entire system, and user acceptance testing is to see if it meets user needs. Oh, and there\\'s also automated testing where tools are used to run tests instead of doing them manually. I should mention some of these types to give examples.\\n\\nThen there\\'s medical testing, like blood tests, diagnostics, etc. These are used to diagnose diseases, check health status, or monitor treatments. For instance, a blood glucose test measures sugar levels, which is important for diabetes management. Medical testing is essential in healthcare for preventing, diagnosing, and treating illnesses. Maybe also mention that it\\'s part of the diagnostic process and has to be accurate and reliable.\\n\\nEducational testing is another area. Tests in schools and universities assess students\\' knowledge, skills, and understanding. Examples include quizzes, exams, standardized tests like SAT or GRE. These help evaluate learning outcomes and can affect academic progression. It\\'s important to note that educational testing can have different formats and purposes, like formative versus summative assessments.\\n\\nTesting can also apply to products in manufacturing. Quality control processes involve testing products to ensure they meet quality standards. This might include stress tests, durability tests, safety tests. For example, car manufacturers test vehicles for crash safety, and electronics companies test for durability under different conditions.\\n\\nIn research and development, testing is part of the scientific method. Experiments are designed to test hypotheses and validate theories. This helps in discovering new knowledge or improving existing products. Controlled experiments are a key part of this, where variables are manipulated to observe outcomes.\\n\\nI should also mention the goals of testing. The main purpose is to identify defects, bugs, or issues before the product or service is released to the public. This helps in improving quality, reducing risks, and ensuring that the final product meets user expectations. In some cases, testing is also used for validation, like in compliance testing to ensure regulations are followed.\\n\\nWait, I should also think about different approaches or methodologies. Like in agile development, testing is integrated throughout the development cycle, rather than a separate phase. Test-driven development is where tests are written before the actual code, which can help in guiding development.\\n\\nAre there any common challenges in testing? Maybe things like test coverage, which is how much of the system is tested, and ensuring that all possible scenarios are covered. Also, balancing the time and cost of testing versus the benefits of finding issues early. In some cases, too much testing can be too time-consuming, so there\\'s a need for efficient strategies.\\n\\nI should also clarify that testing isn\\'t just about finding failures. It\\'s also about confirming that things work as expected. So there\\'s both positive and negative testing. Positive testing ensures that systems work under correct inputs, while negative testing checks how they handle invalid inputs or errors.\\n\\nAnother point: testing often involves creating test cases, which are specific scenarios or inputs that are tested. These test cases are designed to test particular functions or features. There\\'s also the concept of test suites, which are collections of test cases.\\n\\nIn terms of tools, there are various software tools used for testing, like Selenium for web applications, JUnit for Java, and others. These tools help automate testing processes, which saves time and increases efficiency.\\n\\nWait, maybe I should structure the answer by first giving a general definition, then breaking it down into different fields with examples, explaining the purposes, methods, and maybe the importance. Also, mention key terms like test cases, automation, and different types like unit, integration, etc.\\n\\nI should make sure not to confuse testing with debugging. Testing finds defects, and debugging is the process of finding and fixing those defects. That\\'s an important distinction.\\n\\nAlso, in some industries, testing has legal or regulatory requirements. For example, in the medical device industry, there are strict testing protocols to ensure safety and efficacy before a product can be approved.\\n\\nLet me check if I missed any areas where testing is important. Maybe in sports, like drug testing for athletes to ensure they\\'re not using prohibited substances. Or in electronics, like hardware testing for reliability. There\\'s also penetration testing in cybersecurity to find vulnerabilities.\\n\\nSo, putting it all together: testing is a systematic process across various fields to evaluate the performance, quality, and safety of products, processes, or individuals. Its purpose is to ensure reliability, compliance with standards, and to identify and address issues before they cause problems. Different fields have their own methodologies, tools, and types of tests, but the core idea is consistent.\\n\\nI need to make sure the explanation is clear and covers the main points without getting too bogged down in too many details. Maybe start with a simple definition, then go into key aspects, purposes, common types in different areas, and the importance of testing. Also, mention the difference between testing and debugging, and maybe touch on automation vs manual testing.\\n\\nWait, the user asked \"What is testing?\" so the answer should be comprehensive but not too technical. Avoid jargon where possible, but still accurate. Let me structure it step by step, starting with a definition, then expanding into different contexts with examples, purposes, methods, and importance. Maybe bullet points for clarity, but since the user wants a paragraph, perhaps use sections with headings. Wait, the initial answer was a detailed paragraph with different sections. Let me make sure to cover all these points coherently.\\n\\nOkay, I think that\\'s a good outline. Now, I need to present this in a clear, organized way, making sure each section flows logically. Start with the basic definition, then break it down into key aspects like purpose, types, methodologies, importance, and maybe challenges. Use examples from different fields to illustrate each point. Make sure to highlight the fundamental idea that testing is about evaluation and validation to ensure quality and functionality.\\n</think>\\n\\n**Testing** is a systematic process of evaluating a product, system, or process to determine its quality, performance, and reliability. Its primary purpose is to identify defects, validate functionality, and ensure compliance with predefined requirements or standards. Testing is fundamental across various fields, and its methodology and objectives vary depending on the context:\\n\\n### **Key Aspects of Testing**  \\n1. **Purpose**:  \\n   - **Validation**: Confirming that the subject (e.g., software, medical device, educational assessment) functions as intended.  \\n   - **Defect Detection**: Identifying flaws, errors, or vulnerabilities before deployment.  \\n   - **Compliance**: Ensuring adherence to regulations, safety standards, or user requirements.  \\n\\n2. **Common Contexts**:  \\n   - **Software Testing**:  \\n     - **Types**: Unit testing (individual components), integration (interactions between components), system (end-to-end functionality), and acceptance testing (user satisfaction).  \\n     - **Methods**: Manual or automated testing using tools like Selenium or JUnit. Test-driven development (TDD) involves writing tests before code.  \\n   - **Medical Testing**:  \\n     - Includes diagnostics (e.g., blood tests, imaging) to diagnose conditions, monitor health, or ensure treatment efficacy.  \\n   - **Educational Testing**:  \\n     - Assessments like exams, quizzes, or standardized tests (e.g., SAT) to evaluate knowledge or skills.  \\n   - **Manufacturing/Quality Control**:  \\n     - Validates product safety, durability, and performance (e.g., stress-testing car components).  \\n   - **Cybersecurity**:  \\n     - Penetration testing identifies vulnerabilities in systems.  \\n\\n3. **Methodologies**:  \\n   - **Test Cases**: Specific scenarios (e.g., input data, expected output) to validate functionality.  \\n   - **Automation**: Tools reduce manual effort and improve consistency, especially for repetitive tasks.  \\n   - **Agile Testing**: Integrated into iterative development cycles to ensure continuous quality.  \\n\\n4. **Importance**:  \\n   - **Risk Mitigation**: Prevents failures, errors, or safety issues that could harm users or reputation.  \\n   - **Cost Reduction**: Catching issues early saves expenses related to recalls or post-release fixes.  \\n   - **Trust and Compliance**: Ensures products or processes meet legal, ethical, or industry standards.  \\n\\n5. **Challenges**:  \\n   - **Coverage**: Ensuring comprehensive testing without excessive time/cost.  \\n   - **Balancing Scope**: Prioritizing critical scenarios while avoiding over-testing.  \\n   - **Dynamic Environments**: Adapting to evolving requirements, especially in agile or tech-driven fields.  \\n\\n### **Key Distinctions**  \\n- **Testing vs. Debugging**: Testing identifies issues; debugging resolves them.  \\n- **Positive vs. Negative Testing**: The former checks valid scenarios, the latter verifies error handling (e.g., invalid user input).  \\n\\n### **Conclusion**  \\nTesting is a cornerstone of quality assurance across industries. It ensures reliability, safety, and effectiveness, whether in software, healthcare, education, or manufacturing. By systematically evaluating performance and compliance, testing minimizes risks, enhances user trust, and drives continuous improvement.', additional_kwargs={}, response_metadata={'token_usage': {'completion_tokens': 2031, 'prompt_tokens': 13, 'total_tokens': 2044, 'completion_time': 4.6835457609999995, 'prompt_time': 0.002713307, 'queue_time': 0.264902684, 'total_time': 4.686259068}, 'model_name': 'qwen-qwq-32b', 'system_fingerprint': 'fp_a91d9c2cfb', 'finish_reason': 'stop', 'logprobs': None}, id='run--efb5fbc4-4497-4626-91c0-c8f86e7a3fc6-0', usage_metadata={'input_tokens': 13, 'output_tokens': 2031, 'total_tokens': 2044})"
      ]
     },
     "execution_count": 13,
     "metadata": {},
     "output_type": "execute_result"
    }
   ],
   "source": [
    "from langchain_groq import ChatGroq\n",
    "groq=ChatGroq(model=\"qwen-qwq-32b\")\n",
    "groq.invoke(\"What is testing\")"
   ]
  },
  {
   "cell_type": "code",
   "execution_count": 15,
   "id": "c9547ff3",
   "metadata": {},
   "outputs": [
    {
     "data": {
      "text/plain": [
       "AIMessage(content='', additional_kwargs={'tool_calls': [{'id': 'call_3g43', 'function': {'arguments': '{\"query\":\"cybersecurity\"}', 'name': 'arxiv'}, 'type': 'function'}]}, response_metadata={'token_usage': {'completion_tokens': 271, 'prompt_tokens': 305, 'total_tokens': 576, 'completion_time': 0.623143209, 'prompt_time': 0.015112509, 'queue_time': 0.271986371, 'total_time': 0.638255718}, 'model_name': 'qwen-qwq-32b', 'system_fingerprint': 'fp_a91d9c2cfb', 'finish_reason': 'tool_calls', 'logprobs': None}, id='run--8d5e40f7-81cb-48ce-bcca-9d39d11fbdc8-0', tool_calls=[{'name': 'arxiv', 'args': {'query': 'cybersecurity'}, 'id': 'call_3g43', 'type': 'tool_call'}], usage_metadata={'input_tokens': 305, 'output_tokens': 271, 'total_tokens': 576})"
      ]
     },
     "execution_count": 15,
     "metadata": {},
     "output_type": "execute_result"
    }
   ],
   "source": [
    "llm_with_tools = groq.bind_tools(tools)\n",
    "llm_with_tools.invoke(\"Reaserch on cybersecurity\")"
   ]
  },
  {
   "cell_type": "code",
   "execution_count": 16,
   "id": "4717261b",
   "metadata": {},
   "outputs": [],
   "source": [
    "from typing_extensions import TypedDict\n",
    "from langchain_core.messages import AnyMessage\n",
    "from typing import Annotated\n",
    "from langgraph.graph.message import add_messages\n",
    "class State(TypedDict):\n",
    "    messages:Annotated[list[AnyMessage],add_messages]"
   ]
  },
  {
   "cell_type": "code",
   "execution_count": 24,
   "id": "1d5ce491",
   "metadata": {},
   "outputs": [],
   "source": [
    "def chatbot(state: State):\n",
    "    return {\"messages\":llm_with_tools.invoke(state[\"messages\"])}"
   ]
  },
  {
   "cell_type": "code",
   "execution_count": 26,
   "id": "cd3c0762",
   "metadata": {},
   "outputs": [
    {
     "data": {
      "image/png": "[encoded data removed]",
      "text/plain": [
       "<IPython.core.display.Image object>"
      ]
     },
     "metadata": {},
     "output_type": "display_data"
    }
   ],
   "source": [
    "from IPython.display import Image\n",
    "from langgraph.graph import StateGraph,START,END\n",
    "from langgraph.prebuilt import ToolNode\n",
    "from langgraph.prebuilt import tools_condition\n",
    "from langchain_core.messages import HumanMessage\n",
    "\n",
    "graph = StateGraph(State)\n",
    "graph.add_node(\n",
    "    \"chatbot\",\n",
    "    chatbot\n",
    ")\n",
    "graph.add_node(\n",
    "    \"tools\",\n",
    "    ToolNode(tools)\n",
    ")\n",
    "\n",
    "graph.add_edge(START,\"chatbot\")\n",
    "graph.add_conditional_edges(\"chatbot\",tools_condition)\n",
    "graph_builder = graph.compile()\n",
    "display(Image(graph_builder.get_graph().draw_mermaid_png()))"
   ]
  },
  {
   "cell_type": "code",
   "execution_count": 33,
   "id": "f152f194",
   "metadata": {},
   "outputs": [],
   "source": [
    "messages=graph_builder.invoke({\"messages\":HumanMessage(content=\"What is your opinion on automaing cybersecurity\")})"
   ]
  },
  {
   "cell_type": "code",
   "execution_count": 34,
   "id": "53fe6fcf",
   "metadata": {},
   "outputs": [
    {
     "name": "stdout",
     "output_type": "stream",
     "text": [
      "================================\u001b[1m Human Message \u001b[0m=================================\n",
      "\n",
      "What is your opinion on automaing cybersecurity\n",
      "==================================\u001b[1m Ai Message \u001b[0m==================================\n",
      "Tool Calls:\n",
      "  wikipedia (call_zj81)\n",
      " Call ID: call_zj81\n",
      "  Args:\n",
      "    query: Cybersecurity automation\n",
      "=================================\u001b[1m Tool Message \u001b[0m=================================\n",
      "Name: wikipedia\n",
      "\n",
      "Page: Rockwell Automation\n",
      "Summary: Rockwell Automation, Inc. is an American provider of industrial automation and digital transformation technologies headquartered in Milwaukee, Wisconsin. Its brands include Allen-Bradley, FactoryTalk software and LifecycleIQ Services. Rockwell Automation employs approximately 27,000 people and has customers in more than 100 countries worldwide.\n"
     ]
    }
   ],
   "source": [
    "from pprint import pprint\n",
    "for message in messages[\"messages\"]:\n",
    "    message.pretty_print()"
   ]
  }
 ],
 "metadata": {
  "kernelspec": {
   "display_name": "Python 3",
   "language": "python",
   "name": "python3"
  },
  "language_info": {
   "codemirror_mode": {
    "name": "ipython",
    "version": 3
   },
   "file_extension": ".py",
   "mimetype": "text/x-python",
   "name": "python",
   "nbconvert_exporter": "python",
   "pygments_lexer": "ipython3",
   "version": "3.12.0"
  }
 },
 "nbformat": 4,
 "nbformat_minor": 5
}
